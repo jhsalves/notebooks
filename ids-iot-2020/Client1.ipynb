{
 "cells": [
  {
   "cell_type": "code",
   "execution_count": 1,
   "id": "437cc3d2",
   "metadata": {},
   "outputs": [
    {
     "name": "stdout",
     "output_type": "stream",
     "text": [
      "/bin/bash: {sys.executable}: command not found\n",
      "/bin/bash: {sys.executable}: command not found\n"
     ]
    },
    {
     "name": "stderr",
     "output_type": "stream",
     "text": [
      "2021-11-16 01:32:03.288108: W tensorflow/stream_executor/platform/default/dso_loader.cc:64] Could not load dynamic library 'libcudart.so.11.0'; dlerror: libcudart.so.11.0: cannot open shared object file: No such file or directory\n",
      "2021-11-16 01:32:03.288151: I tensorflow/stream_executor/cuda/cudart_stub.cc:29] Ignore above cudart dlerror if you do not have a GPU set up on your machine.\n"
     ]
    }
   ],
   "source": [
    "!{sys.executable} -m pip install tensorflow\n",
    "!{sys.executable} -m pip install seaborn\n",
    "import sys\n",
    "import aux\n",
    "import tensorflow as tf"
   ]
  },
  {
   "cell_type": "code",
   "execution_count": 2,
   "id": "441b9ab8",
   "metadata": {},
   "outputs": [],
   "source": [
    "import os\n",
    "\n",
    "import flwr as fl\n",
    "import tensorflow as tf\n",
    "\n",
    "# Make TensorFlow log less verbose\n",
    "os.environ[\"TF_CPP_MIN_LOG_LEVEL\"] = \"3\"\n"
   ]
  },
  {
   "cell_type": "code",
   "execution_count": 3,
   "id": "51d9ef7d",
   "metadata": {},
   "outputs": [
    {
     "data": {
      "text/plain": [
       "['FlowerClient',\n",
       " 'SimpleImputer',\n",
       " '__builtins__',\n",
       " '__cached__',\n",
       " '__doc__',\n",
       " '__file__',\n",
       " '__loader__',\n",
       " '__name__',\n",
       " '__package__',\n",
       " '__spec__',\n",
       " 'fl',\n",
       " 'ids_iot_2020_datasets',\n",
       " 'np',\n",
       " 'os',\n",
       " 'pd',\n",
       " 'plt',\n",
       " 'preprocessing',\n",
       " 'sns',\n",
       " 'tf',\n",
       " 'train_test_split',\n",
       " 'zipfile']"
      ]
     },
     "execution_count": 3,
     "metadata": {},
     "output_type": "execute_result"
    }
   ],
   "source": [
    "dir(aux)"
   ]
  },
  {
   "cell_type": "code",
   "execution_count": 4,
   "id": "afeffe6f",
   "metadata": {},
   "outputs": [
    {
     "name": "stderr",
     "output_type": "stream",
     "text": [
      "2021-11-16 01:32:13.142756: W tensorflow/stream_executor/platform/default/dso_loader.cc:64] Could not load dynamic library 'libcuda.so.1'; dlerror: libcuda.so.1: cannot open shared object file: No such file or directory\n",
      "2021-11-16 01:32:13.142901: W tensorflow/stream_executor/cuda/cuda_driver.cc:269] failed call to cuInit: UNKNOWN ERROR (303)\n",
      "2021-11-16 01:32:13.142983: I tensorflow/stream_executor/cuda/cuda_diagnostics.cc:156] kernel driver does not appear to be running on this host (DESKTOP-KJRGBJA): /proc/driver/nvidia/version does not exist\n",
      "2021-11-16 01:32:13.144009: I tensorflow/core/platform/cpu_feature_guard.cc:151] This TensorFlow binary is optimized with oneAPI Deep Neural Network Library (oneDNN) to use the following CPU instructions in performance-critical operations:  AVX2 FMA\n",
      "To enable them in other operations, rebuild TensorFlow with the appropriate compiler flags.\n"
     ]
    }
   ],
   "source": [
    "(x_train, y_train), (x_test, y_test), shape = aux.ids_iot_2020_datasets()\n",
    "\n",
    "model = tf.keras.models.Sequential()\n",
    "model.add(tf.keras.layers.Dense(units=14, activation='relu', input_shape=(shape,)))\n",
    "model.add(tf.keras.layers.Dense(units=1, activation='sigmoid'))"
   ]
  },
  {
   "cell_type": "code",
   "execution_count": 5,
   "id": "5df00572",
   "metadata": {},
   "outputs": [],
   "source": [
    "# Define Flower client\n",
    "client = aux.FlowerClient(\"Client1\", model, (x_train, y_train), (x_test, y_test))"
   ]
  },
  {
   "cell_type": "code",
   "execution_count": 6,
   "id": "6f8f3c1e",
   "metadata": {},
   "outputs": [
    {
     "name": "stderr",
     "output_type": "stream",
     "text": [
      "DEBUG flower 2021-11-16 01:32:13,750 | connection.py:36 | ChannelConnectivity.IDLE\n",
      "DEBUG flower 2021-11-16 01:32:13,755 | connection.py:36 | ChannelConnectivity.CONNECTING\n",
      "INFO flower 2021-11-16 01:32:13,757 | app.py:61 | Opened (insecure) gRPC connection\n",
      "DEBUG flower 2021-11-16 01:32:13,757 | connection.py:36 | ChannelConnectivity.READY\n"
     ]
    },
    {
     "name": "stdout",
     "output_type": "stream",
     "text": [
      "22306/22306 [==============================] - 30s 1ms/step - loss: 0.3754 - binary_accuracy: 0.8526\n",
      "1174/1174 [==============================] - 1s 907us/step - loss: 0.9130 - binary_accuracy: 0.4760 0s - loss: 0.9121 - binary_acc\n",
      "Client Client1 - Evaluate on 713787 samples: Average loss: 0.9130, Accuracy: 47.60%\n",
      "\n",
      "22306/22306 [==============================] - 28s 1ms/step - loss: 0.3023 - binary_accuracy: 0.8934\n",
      "1174/1174 [==============================] - 1s 866us/step - loss: 2.0261 - binary_accuracy: 0.3355\n",
      "Client Client1 - Evaluate on 713787 samples: Average loss: 2.0261, Accuracy: 33.55%\n",
      "\n",
      "22306/22306 [==============================] - 29s 1ms/step - loss: 0.2852 - binary_accuracy: 0.8944\n",
      "1174/1174 [==============================] - 1s 861us/step - loss: 2.6816 - binary_accuracy: 0.3125\n",
      "Client Client1 - Evaluate on 713787 samples: Average loss: 2.6816, Accuracy: 31.25%\n",
      "\n",
      "22306/22306 [==============================] - 28s 1ms/step - loss: 0.2788 - binary_accuracy: 0.8950\n",
      "1174/1174 [==============================] - 1s 937us/step - loss: 3.1291 - binary_accuracy: 0.3123\n",
      "Client Client1 - Evaluate on 713787 samples: Average loss: 3.1291, Accuracy: 31.23%\n",
      "\n",
      "22306/22306 [==============================] - 30s 1ms/step - loss: 0.2684 - binary_accuracy: 0.8989\n",
      "1174/1174 [==============================] - 1s 848us/step - loss: 3.5263 - binary_accuracy: 0.3110\n",
      "Client Client1 - Evaluate on 713787 samples: Average loss: 3.5263, Accuracy: 31.10%\n",
      "\n",
      "22306/22306 [==============================] - 28s 1ms/step - loss: 0.2616 - binary_accuracy: 0.9019\n",
      "1174/1174 [==============================] - 1s 857us/step - loss: 3.7945 - binary_accuracy: 0.3103\n",
      "Client Client1 - Evaluate on 713787 samples: Average loss: 3.7945, Accuracy: 31.03%\n",
      "\n",
      "22306/22306 [==============================] - 29s 1ms/step - loss: 0.2567 - binary_accuracy: 0.9045\n",
      "1174/1174 [==============================] - 1s 935us/step - loss: 4.4036 - binary_accuracy: 0.3105\n",
      "Client Client1 - Evaluate on 713787 samples: Average loss: 4.4036, Accuracy: 31.05%\n",
      "\n",
      "22306/22306 [==============================] - 30s 1ms/step - loss: 0.2521 - binary_accuracy: 0.9069\n",
      "1174/1174 [==============================] - 1s 1ms/step - loss: 4.6143 - binary_accuracy: 0.3103\n",
      "Client Client1 - Evaluate on 713787 samples: Average loss: 4.6143, Accuracy: 31.03%\n",
      "\n",
      "22306/22306 [==============================] - 29s 1ms/step - loss: 0.2474 - binary_accuracy: 0.9094\n",
      "1174/1174 [==============================] - 1s 874us/step - loss: 4.9590 - binary_accuracy: 0.3091\n",
      "Client Client1 - Evaluate on 713787 samples: Average loss: 4.9590, Accuracy: 30.91%\n",
      "\n",
      "22306/22306 [==============================] - 28s 1ms/step - loss: 0.2433 - binary_accuracy: 0.9113\n",
      "1174/1174 [==============================] - 1s 851us/step - loss: 5.4824 - binary_accuracy: 0.3089\n",
      "Client Client1 - Evaluate on 713787 samples: Average loss: 5.4824, Accuracy: 30.89%\n",
      "\n",
      "1174/1174 [==============================] - 1s 873us/step - loss: 5.4824 - binary_accuracy: 0.3089\n",
      "Client Client1 - Evaluate on 713787 samples: Average loss: 5.4824, Accuracy: 30.89%\n",
      "\n"
     ]
    },
    {
     "name": "stderr",
     "output_type": "stream",
     "text": [
      "DEBUG flower 2021-11-16 01:38:04,930 | connection.py:68 | Insecure gRPC channel closed\n",
      "INFO flower 2021-11-16 01:38:04,931 | app.py:72 | Disconnect and shut down\n"
     ]
    }
   ],
   "source": [
    "server_address = \"[::]:8081\"\n",
    "\n",
    "fl.client.start_numpy_client(server_address, client=client)"
   ]
  },
  {
   "cell_type": "code",
   "execution_count": null,
   "id": "0f405886",
   "metadata": {},
   "outputs": [],
   "source": []
  }
 ],
 "metadata": {
  "kernelspec": {
   "display_name": "Python 3 (ipykernel)",
   "language": "python",
   "name": "python3"
  },
  "language_info": {
   "codemirror_mode": {
    "name": "ipython",
    "version": 3
   },
   "file_extension": ".py",
   "mimetype": "text/x-python",
   "name": "python",
   "nbconvert_exporter": "python",
   "pygments_lexer": "ipython3",
   "version": "3.8.10"
  }
 },
 "nbformat": 4,
 "nbformat_minor": 5
}
