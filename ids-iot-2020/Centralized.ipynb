{
 "cells": [
  {
   "cell_type": "code",
   "execution_count": 1,
   "id": "437cc3d2",
   "metadata": {},
   "outputs": [
    {
     "name": "stdout",
     "output_type": "stream",
     "text": [
      "/bin/bash: {sys.executable}: command not found\n",
      "/bin/bash: {sys.executable}: command not found\n"
     ]
    }
   ],
   "source": [
    "!{sys.executable} -m pip install tensorflow\n",
    "!{sys.executable} -m pip install seaborn\n",
    "import os\n",
    "# Make TensorFlow log less verbose\n",
    "os.environ[\"TF_CPP_MIN_LOG_LEVEL\"] = \"3\"\n",
    "import sys\n",
    "from .. import aux\n",
    "import tensorflow as tf"
   ]
  },
  {
   "cell_type": "code",
   "execution_count": 2,
   "id": "441b9ab8",
   "metadata": {},
   "outputs": [],
   "source": [
    "import flwr as fl\n",
    "import tensorflow as tf\n",
    "\n",
    "\n"
   ]
  },
  {
   "cell_type": "code",
   "execution_count": 3,
   "id": "afeffe6f",
   "metadata": {},
   "outputs": [],
   "source": [
    "model, (x_train, y_train), (x_test, y_test), shape, batch_size, epochs, validation_split = aux.build_model_wit_parameters(epochs = 100)"
   ]
  },
  {
   "cell_type": "code",
   "execution_count": 4,
   "id": "5df00572",
   "metadata": {},
   "outputs": [
    {
     "name": "stdout",
     "output_type": "stream",
     "text": [
      "Epoch 1/100\n",
      "6680/6680 [==============================] - 10s 1ms/step - loss: 0.5289 - binary_accuracy: 0.6914 - val_loss: 0.4656 - val_binary_accuracy: 0.7198\n",
      "Epoch 2/100\n",
      "6680/6680 [==============================] - 9s 1ms/step - loss: 0.4534 - binary_accuracy: 0.7275 - val_loss: 0.4490 - val_binary_accuracy: 0.7353\n",
      "Epoch 3/100\n",
      "6680/6680 [==============================] - 9s 1ms/step - loss: 0.4408 - binary_accuracy: 0.7408 - val_loss: 0.4369 - val_binary_accuracy: 0.7464\n",
      "Epoch 4/100\n",
      "6680/6680 [==============================] - 9s 1ms/step - loss: 0.4320 - binary_accuracy: 0.7551 - val_loss: 0.4289 - val_binary_accuracy: 0.7679\n",
      "Epoch 5/100\n",
      "6680/6680 [==============================] - 9s 1ms/step - loss: 0.4246 - binary_accuracy: 0.7672 - val_loss: 0.4221 - val_binary_accuracy: 0.7600\n",
      "Epoch 6/100\n",
      "6680/6680 [==============================] - 9s 1ms/step - loss: 0.4190 - binary_accuracy: 0.7737 - val_loss: 0.4167 - val_binary_accuracy: 0.7788\n",
      "Epoch 7/100\n",
      "6680/6680 [==============================] - 10s 1ms/step - loss: 0.4143 - binary_accuracy: 0.7785 - val_loss: 0.4142 - val_binary_accuracy: 0.7733\n",
      "Epoch 8/100\n",
      "6680/6680 [==============================] - 9s 1ms/step - loss: 0.4103 - binary_accuracy: 0.7805 - val_loss: 0.4083 - val_binary_accuracy: 0.7733\n",
      "Epoch 9/100\n",
      "6680/6680 [==============================] - 9s 1ms/step - loss: 0.4071 - binary_accuracy: 0.7828 - val_loss: 0.4049 - val_binary_accuracy: 0.7757\n",
      "Epoch 10/100\n",
      "6680/6680 [==============================] - 9s 1ms/step - loss: 0.4043 - binary_accuracy: 0.7842 - val_loss: 0.4027 - val_binary_accuracy: 0.8072\n",
      "Epoch 11/100\n",
      "6680/6680 [==============================] - 9s 1ms/step - loss: 0.4020 - binary_accuracy: 0.7844 - val_loss: 0.4021 - val_binary_accuracy: 0.7708\n",
      "Epoch 12/100\n",
      "6680/6680 [==============================] - 9s 1ms/step - loss: 0.4000 - binary_accuracy: 0.7859 - val_loss: 0.4000 - val_binary_accuracy: 0.7820\n",
      "Epoch 13/100\n",
      "6680/6680 [==============================] - 9s 1ms/step - loss: 0.3974 - binary_accuracy: 0.7880 - val_loss: 0.3987 - val_binary_accuracy: 0.7778\n",
      "Epoch 14/100\n",
      "6680/6680 [==============================] - 9s 1ms/step - loss: 0.3952 - binary_accuracy: 0.7888 - val_loss: 0.3937 - val_binary_accuracy: 0.7994\n",
      "Epoch 15/100\n",
      "6680/6680 [==============================] - 9s 1ms/step - loss: 0.3933 - binary_accuracy: 0.7915 - val_loss: 0.3913 - val_binary_accuracy: 0.8020\n",
      "Epoch 16/100\n",
      "6680/6680 [==============================] - 11s 2ms/step - loss: 0.3916 - binary_accuracy: 0.7929 - val_loss: 0.3929 - val_binary_accuracy: 0.8008\n",
      "Epoch 17/100\n",
      "6680/6680 [==============================] - 14s 2ms/step - loss: 0.3899 - binary_accuracy: 0.7948 - val_loss: 0.3952 - val_binary_accuracy: 0.7897\n",
      "Epoch 18/100\n",
      "6680/6680 [==============================] - 10s 2ms/step - loss: 0.3879 - binary_accuracy: 0.7958 - val_loss: 0.3868 - val_binary_accuracy: 0.8002\n",
      "Epoch 19/100\n",
      "6680/6680 [==============================] - 8s 1ms/step - loss: 0.3863 - binary_accuracy: 0.7973 - val_loss: 0.3853 - val_binary_accuracy: 0.7965\n",
      "Epoch 20/100\n",
      "6680/6680 [==============================] - 9s 1ms/step - loss: 0.3847 - binary_accuracy: 0.7991 - val_loss: 0.3827 - val_binary_accuracy: 0.7975\n",
      "Epoch 21/100\n",
      "6680/6680 [==============================] - 9s 1ms/step - loss: 0.3833 - binary_accuracy: 0.7998 - val_loss: 0.3833 - val_binary_accuracy: 0.8014\n",
      "Epoch 22/100\n",
      "6680/6680 [==============================] - 10s 1ms/step - loss: 0.3813 - binary_accuracy: 0.8008 - val_loss: 0.3798 - val_binary_accuracy: 0.7872\n",
      "Epoch 23/100\n",
      "6680/6680 [==============================] - 10s 1ms/step - loss: 0.3798 - binary_accuracy: 0.8025 - val_loss: 0.3779 - val_binary_accuracy: 0.7973\n",
      "Epoch 24/100\n",
      "6680/6680 [==============================] - 9s 1ms/step - loss: 0.3785 - binary_accuracy: 0.8038 - val_loss: 0.3769 - val_binary_accuracy: 0.8086\n",
      "Epoch 25/100\n",
      "6680/6680 [==============================] - 10s 1ms/step - loss: 0.3769 - binary_accuracy: 0.8044 - val_loss: 0.3739 - val_binary_accuracy: 0.8049\n",
      "Epoch 26/100\n",
      "6680/6680 [==============================] - 11s 2ms/step - loss: 0.3755 - binary_accuracy: 0.8052 - val_loss: 0.3764 - val_binary_accuracy: 0.8020\n",
      "Epoch 27/100\n",
      "6680/6680 [==============================] - 8s 1ms/step - loss: 0.3742 - binary_accuracy: 0.8060 - val_loss: 0.3726 - val_binary_accuracy: 0.8016\n",
      "Epoch 28/100\n",
      "6680/6680 [==============================] - 9s 1ms/step - loss: 0.3726 - binary_accuracy: 0.8071 - val_loss: 0.3743 - val_binary_accuracy: 0.8080\n",
      "Epoch 29/100\n",
      "6680/6680 [==============================] - 9s 1ms/step - loss: 0.3716 - binary_accuracy: 0.8084 - val_loss: 0.3708 - val_binary_accuracy: 0.7974\n",
      "Epoch 30/100\n",
      "6680/6680 [==============================] - 9s 1ms/step - loss: 0.3702 - binary_accuracy: 0.8091 - val_loss: 0.3685 - val_binary_accuracy: 0.8164\n",
      "Epoch 31/100\n",
      "6680/6680 [==============================] - 11s 2ms/step - loss: 0.3690 - binary_accuracy: 0.8101 - val_loss: 0.3719 - val_binary_accuracy: 0.8077\n",
      "Epoch 32/100\n",
      "6680/6680 [==============================] - 9s 1ms/step - loss: 0.3678 - binary_accuracy: 0.8121 - val_loss: 0.3655 - val_binary_accuracy: 0.8127\n",
      "Epoch 33/100\n",
      "6680/6680 [==============================] - 9s 1ms/step - loss: 0.3667 - binary_accuracy: 0.8132 - val_loss: 0.3636 - val_binary_accuracy: 0.8208\n",
      "Epoch 34/100\n",
      "6680/6680 [==============================] - 9s 1ms/step - loss: 0.3657 - binary_accuracy: 0.8139 - val_loss: 0.3733 - val_binary_accuracy: 0.8227\n",
      "Epoch 35/100\n",
      "6680/6680 [==============================] - 9s 1ms/step - loss: 0.3647 - binary_accuracy: 0.8150 - val_loss: 0.3631 - val_binary_accuracy: 0.8099\n",
      "Epoch 36/100\n",
      "6680/6680 [==============================] - 9s 1ms/step - loss: 0.3637 - binary_accuracy: 0.8150 - val_loss: 0.3612 - val_binary_accuracy: 0.8197\n",
      "Epoch 37/100\n",
      "6680/6680 [==============================] - 8s 1ms/step - loss: 0.3627 - binary_accuracy: 0.8160 - val_loss: 0.3618 - val_binary_accuracy: 0.8099\n",
      "Epoch 38/100\n",
      "6680/6680 [==============================] - 8s 1ms/step - loss: 0.3617 - binary_accuracy: 0.8164 - val_loss: 0.3587 - val_binary_accuracy: 0.8189\n",
      "Epoch 39/100\n",
      "6680/6680 [==============================] - 8s 1ms/step - loss: 0.3608 - binary_accuracy: 0.8176 - val_loss: 0.3615 - val_binary_accuracy: 0.8122\n",
      "Epoch 40/100\n",
      "6680/6680 [==============================] - 8s 1ms/step - loss: 0.3597 - binary_accuracy: 0.8183 - val_loss: 0.3566 - val_binary_accuracy: 0.8229\n",
      "Epoch 41/100\n",
      "6680/6680 [==============================] - 8s 1ms/step - loss: 0.3589 - binary_accuracy: 0.8192 - val_loss: 0.3552 - val_binary_accuracy: 0.8179\n",
      "Epoch 42/100\n",
      "6680/6680 [==============================] - 8s 1ms/step - loss: 0.3580 - binary_accuracy: 0.8203 - val_loss: 0.3584 - val_binary_accuracy: 0.8144\n",
      "Epoch 43/100\n",
      "6680/6680 [==============================] - 8s 1ms/step - loss: 0.3574 - binary_accuracy: 0.8204 - val_loss: 0.3605 - val_binary_accuracy: 0.8278\n",
      "Epoch 44/100\n",
      "6680/6680 [==============================] - 8s 1ms/step - loss: 0.3564 - binary_accuracy: 0.8204 - val_loss: 0.3534 - val_binary_accuracy: 0.8257\n",
      "Epoch 45/100\n",
      "6680/6680 [==============================] - 8s 1ms/step - loss: 0.3549 - binary_accuracy: 0.8214 - val_loss: 0.3654 - val_binary_accuracy: 0.8247\n",
      "Epoch 46/100\n",
      "6680/6680 [==============================] - 8s 1ms/step - loss: 0.3542 - binary_accuracy: 0.8215 - val_loss: 0.3584 - val_binary_accuracy: 0.8202\n",
      "Epoch 47/100\n",
      "6680/6680 [==============================] - 8s 1ms/step - loss: 0.3533 - binary_accuracy: 0.8222 - val_loss: 0.3539 - val_binary_accuracy: 0.8279\n",
      "Epoch 48/100\n",
      "6680/6680 [==============================] - 8s 1ms/step - loss: 0.3521 - binary_accuracy: 0.8230 - val_loss: 0.3497 - val_binary_accuracy: 0.8229\n",
      "Epoch 49/100\n",
      "6680/6680 [==============================] - 8s 1ms/step - loss: 0.3510 - binary_accuracy: 0.8234 - val_loss: 0.3544 - val_binary_accuracy: 0.8229\n",
      "Epoch 50/100\n",
      "6680/6680 [==============================] - 8s 1ms/step - loss: 0.3500 - binary_accuracy: 0.8247 - val_loss: 0.3503 - val_binary_accuracy: 0.8094\n",
      "Epoch 51/100\n",
      "6680/6680 [==============================] - 8s 1ms/step - loss: 0.3492 - binary_accuracy: 0.8237 - val_loss: 0.3566 - val_binary_accuracy: 0.7931\n",
      "Epoch 52/100\n"
     ]
    },
    {
     "name": "stdout",
     "output_type": "stream",
     "text": [
      "6680/6680 [==============================] - 8s 1ms/step - loss: 0.3487 - binary_accuracy: 0.8246 - val_loss: 0.3499 - val_binary_accuracy: 0.8288\n",
      "Epoch 53/100\n",
      "6680/6680 [==============================] - 8s 1ms/step - loss: 0.3483 - binary_accuracy: 0.8251 - val_loss: 0.3462 - val_binary_accuracy: 0.8266\n",
      "Epoch 54/100\n",
      "6680/6680 [==============================] - 14s 2ms/step - loss: 0.3472 - binary_accuracy: 0.8263 - val_loss: 0.3461 - val_binary_accuracy: 0.8270\n",
      "Epoch 55/100\n",
      "6680/6680 [==============================] - 13s 2ms/step - loss: 0.3467 - binary_accuracy: 0.8265 - val_loss: 0.3445 - val_binary_accuracy: 0.8231\n",
      "Epoch 56/100\n",
      "6680/6680 [==============================] - 10s 2ms/step - loss: 0.3462 - binary_accuracy: 0.8263 - val_loss: 0.3418 - val_binary_accuracy: 0.8297\n",
      "Epoch 57/100\n",
      "6680/6680 [==============================] - 8s 1ms/step - loss: 0.3457 - binary_accuracy: 0.8273 - val_loss: 0.3450 - val_binary_accuracy: 0.8319\n",
      "Epoch 58/100\n",
      "6680/6680 [==============================] - 8s 1ms/step - loss: 0.3448 - binary_accuracy: 0.8277 - val_loss: 0.3453 - val_binary_accuracy: 0.8154\n",
      "Epoch 59/100\n",
      "6680/6680 [==============================] - 8s 1ms/step - loss: 0.3443 - binary_accuracy: 0.8280 - val_loss: 0.3453 - val_binary_accuracy: 0.8206\n",
      "Epoch 60/100\n",
      "6680/6680 [==============================] - 8s 1ms/step - loss: 0.3438 - binary_accuracy: 0.8281 - val_loss: 0.3511 - val_binary_accuracy: 0.8280\n",
      "Epoch 61/100\n",
      "6680/6680 [==============================] - 9s 1ms/step - loss: 0.3432 - binary_accuracy: 0.8289 - val_loss: 0.3423 - val_binary_accuracy: 0.8286\n",
      "Epoch 62/100\n",
      "6680/6680 [==============================] - 10s 1ms/step - loss: 0.3429 - binary_accuracy: 0.8285 - val_loss: 0.3417 - val_binary_accuracy: 0.8335\n",
      "Epoch 63/100\n",
      "6680/6680 [==============================] - 9s 1ms/step - loss: 0.3424 - binary_accuracy: 0.8298 - val_loss: 0.3399 - val_binary_accuracy: 0.8289\n",
      "Epoch 64/100\n",
      "6680/6680 [==============================] - 8s 1ms/step - loss: 0.3413 - binary_accuracy: 0.8306 - val_loss: 0.3436 - val_binary_accuracy: 0.8308\n",
      "Epoch 65/100\n",
      "6680/6680 [==============================] - 8s 1ms/step - loss: 0.3410 - binary_accuracy: 0.8295 - val_loss: 0.3500 - val_binary_accuracy: 0.8310\n",
      "Epoch 66/100\n",
      "6680/6680 [==============================] - 8s 1ms/step - loss: 0.3405 - binary_accuracy: 0.8300 - val_loss: 0.3383 - val_binary_accuracy: 0.8323\n",
      "Epoch 67/100\n",
      "6680/6680 [==============================] - 9s 1ms/step - loss: 0.3395 - binary_accuracy: 0.8317 - val_loss: 0.3378 - val_binary_accuracy: 0.8316\n",
      "Epoch 68/100\n",
      "6680/6680 [==============================] - 9s 1ms/step - loss: 0.3387 - binary_accuracy: 0.8321 - val_loss: 0.3358 - val_binary_accuracy: 0.8334\n",
      "Epoch 69/100\n",
      "6680/6680 [==============================] - 9s 1ms/step - loss: 0.3378 - binary_accuracy: 0.8326 - val_loss: 0.3464 - val_binary_accuracy: 0.7847\n",
      "Epoch 70/100\n",
      "6680/6680 [==============================] - 9s 1ms/step - loss: 0.3374 - binary_accuracy: 0.8331 - val_loss: 0.3374 - val_binary_accuracy: 0.8264\n",
      "Epoch 71/100\n",
      "6680/6680 [==============================] - 9s 1ms/step - loss: 0.3371 - binary_accuracy: 0.8330 - val_loss: 0.3355 - val_binary_accuracy: 0.8348\n",
      "Epoch 72/100\n",
      "6680/6680 [==============================] - 9s 1ms/step - loss: 0.3364 - binary_accuracy: 0.8329 - val_loss: 0.3324 - val_binary_accuracy: 0.8370\n",
      "Epoch 73/100\n",
      "6680/6680 [==============================] - 9s 1ms/step - loss: 0.3361 - binary_accuracy: 0.8336 - val_loss: 0.3326 - val_binary_accuracy: 0.8375\n",
      "Epoch 74/100\n",
      "6680/6680 [==============================] - 9s 1ms/step - loss: 0.3356 - binary_accuracy: 0.8330 - val_loss: 0.3328 - val_binary_accuracy: 0.8373\n",
      "Epoch 75/100\n",
      "6680/6680 [==============================] - 10s 2ms/step - loss: 0.3351 - binary_accuracy: 0.8344 - val_loss: 0.3321 - val_binary_accuracy: 0.8368\n",
      "Epoch 76/100\n",
      "6680/6680 [==============================] - 9s 1ms/step - loss: 0.3342 - binary_accuracy: 0.8351 - val_loss: 0.3296 - val_binary_accuracy: 0.8373\n",
      "Epoch 77/100\n",
      "6680/6680 [==============================] - 8s 1ms/step - loss: 0.3335 - binary_accuracy: 0.8350 - val_loss: 0.3311 - val_binary_accuracy: 0.8379\n",
      "Epoch 78/100\n",
      "6680/6680 [==============================] - 8s 1ms/step - loss: 0.3328 - binary_accuracy: 0.8355 - val_loss: 0.3309 - val_binary_accuracy: 0.8366\n",
      "Epoch 79/100\n",
      "6680/6680 [==============================] - 8s 1ms/step - loss: 0.3324 - binary_accuracy: 0.8356 - val_loss: 0.3325 - val_binary_accuracy: 0.8251\n",
      "Epoch 80/100\n",
      "6680/6680 [==============================] - 9s 1ms/step - loss: 0.3316 - binary_accuracy: 0.8358 - val_loss: 0.3311 - val_binary_accuracy: 0.8339\n",
      "Epoch 81/100\n",
      "6680/6680 [==============================] - 9s 1ms/step - loss: 0.3311 - binary_accuracy: 0.8357 - val_loss: 0.3329 - val_binary_accuracy: 0.8381\n",
      "Epoch 82/100\n",
      "6680/6680 [==============================] - 9s 1ms/step - loss: 0.3308 - binary_accuracy: 0.8360 - val_loss: 0.3267 - val_binary_accuracy: 0.8362\n",
      "Epoch 83/100\n",
      "6680/6680 [==============================] - 8s 1ms/step - loss: 0.3302 - binary_accuracy: 0.8360 - val_loss: 0.3269 - val_binary_accuracy: 0.8351\n",
      "Epoch 84/100\n",
      "6680/6680 [==============================] - 10s 1ms/step - loss: 0.3298 - binary_accuracy: 0.8362 - val_loss: 0.3304 - val_binary_accuracy: 0.8326\n",
      "Epoch 85/100\n",
      "6680/6680 [==============================] - 8s 1ms/step - loss: 0.3296 - binary_accuracy: 0.8354 - val_loss: 0.3278 - val_binary_accuracy: 0.8373\n",
      "Epoch 86/100\n",
      "6680/6680 [==============================] - 8s 1ms/step - loss: 0.3294 - binary_accuracy: 0.8362 - val_loss: 0.3270 - val_binary_accuracy: 0.8382\n",
      "Epoch 87/100\n",
      "6680/6680 [==============================] - 9s 1ms/step - loss: 0.3290 - binary_accuracy: 0.8360 - val_loss: 0.3258 - val_binary_accuracy: 0.8378\n",
      "Epoch 88/100\n",
      "6680/6680 [==============================] - 14s 2ms/step - loss: 0.3286 - binary_accuracy: 0.8364 - val_loss: 0.3259 - val_binary_accuracy: 0.8379\n",
      "Epoch 89/100\n",
      "6680/6680 [==============================] - 12s 2ms/step - loss: 0.3285 - binary_accuracy: 0.8359 - val_loss: 0.3270 - val_binary_accuracy: 0.8381\n",
      "Epoch 90/100\n",
      "6680/6680 [==============================] - 15s 2ms/step - loss: 0.3284 - binary_accuracy: 0.8354 - val_loss: 0.3329 - val_binary_accuracy: 0.8227\n",
      "Epoch 91/100\n",
      "6680/6680 [==============================] - 12s 2ms/step - loss: 0.3277 - binary_accuracy: 0.8362 - val_loss: 0.3253 - val_binary_accuracy: 0.8369\n",
      "Epoch 92/100\n",
      "6680/6680 [==============================] - 10s 2ms/step - loss: 0.3277 - binary_accuracy: 0.8360 - val_loss: 0.3373 - val_binary_accuracy: 0.7824\n",
      "Epoch 93/100\n",
      "6680/6680 [==============================] - 9s 1ms/step - loss: 0.3274 - binary_accuracy: 0.8364 - val_loss: 0.3238 - val_binary_accuracy: 0.8368\n",
      "Epoch 94/100\n",
      "6680/6680 [==============================] - 10s 1ms/step - loss: 0.3270 - binary_accuracy: 0.8365 - val_loss: 0.3233 - val_binary_accuracy: 0.8379\n",
      "Epoch 95/100\n",
      "6680/6680 [==============================] - 14s 2ms/step - loss: 0.3269 - binary_accuracy: 0.8366 - val_loss: 0.3253 - val_binary_accuracy: 0.8381\n",
      "Epoch 96/100\n",
      "6680/6680 [==============================] - 13s 2ms/step - loss: 0.3269 - binary_accuracy: 0.8363 - val_loss: 0.3235 - val_binary_accuracy: 0.8376\n",
      "Epoch 97/100\n",
      "6680/6680 [==============================] - 10s 2ms/step - loss: 0.3264 - binary_accuracy: 0.8364 - val_loss: 0.3250 - val_binary_accuracy: 0.8367\n",
      "Epoch 98/100\n",
      "6680/6680 [==============================] - 11s 2ms/step - loss: 0.3262 - binary_accuracy: 0.8365 - val_loss: 0.3261 - val_binary_accuracy: 0.8379\n",
      "Epoch 99/100\n",
      "6680/6680 [==============================] - 10s 2ms/step - loss: 0.3263 - binary_accuracy: 0.8363 - val_loss: 0.3236 - val_binary_accuracy: 0.8385\n",
      "Epoch 100/100\n",
      "6680/6680 [==============================] - 10s 1ms/step - loss: 0.3259 - binary_accuracy: 0.8366 - val_loss: 0.3260 - val_binary_accuracy: 0.8365\n"
     ]
    }
   ],
   "source": [
    "# Define Flower client\n",
    "trainer = aux.CentralizedTrainer(model, (x_train, y_train), (x_test, y_test), epochs = epochs, batch_size = batch_size, validation_split=validation_split)"
   ]
  },
  {
   "cell_type": "code",
   "execution_count": 5,
   "id": "81af61b2",
   "metadata": {},
   "outputs": [
    {
     "data": {
      "text/plain": [
       "array([[0.41062176],\n",
       "       [1.        ],\n",
       "       [0.29577196],\n",
       "       ...,\n",
       "       [0.01188394],\n",
       "       [1.        ],\n",
       "       [0.31041604]], dtype=float32)"
      ]
     },
     "execution_count": 5,
     "metadata": {},
     "output_type": "execute_result"
    }
   ],
   "source": [
    "previsoes = model.predict(x_test)\n",
    "previsoes"
   ]
  },
  {
   "cell_type": "code",
   "execution_count": 6,
   "id": "7056792f",
   "metadata": {},
   "outputs": [
    {
     "data": {
      "text/plain": [
       "array([[0],\n",
       "       [1],\n",
       "       [0],\n",
       "       ...,\n",
       "       [0],\n",
       "       [1],\n",
       "       [0]])"
      ]
     },
     "execution_count": 6,
     "metadata": {},
     "output_type": "execute_result"
    }
   ],
   "source": [
    "previsoes = (previsoes > 0.5).astype(int)\n",
    "previsoes"
   ]
  },
  {
   "cell_type": "code",
   "execution_count": 7,
   "id": "4e5e50c6",
   "metadata": {},
   "outputs": [
    {
     "data": {
      "text/plain": [
       "0.8368"
      ]
     },
     "execution_count": 7,
     "metadata": {},
     "output_type": "execute_result"
    }
   ],
   "source": [
    "from sklearn.metrics import accuracy_score\n",
    "accuracy_score(previsoes, y_test)"
   ]
  },
  {
   "cell_type": "code",
   "execution_count": 8,
   "id": "26e55273",
   "metadata": {},
   "outputs": [
    {
     "data": {
      "text/plain": [
       "array([[6243,   31],\n",
       "       [2009, 4217]])"
      ]
     },
     "execution_count": 8,
     "metadata": {},
     "output_type": "execute_result"
    }
   ],
   "source": [
    "from sklearn.metrics import confusion_matrix\n",
    "cm = confusion_matrix(y_test, previsoes)\n",
    "cm"
   ]
  },
  {
   "cell_type": "code",
   "execution_count": null,
   "id": "ff07321d",
   "metadata": {},
   "outputs": [],
   "source": []
  }
 ],
 "metadata": {
  "kernelspec": {
   "display_name": "Python 3 (ipykernel)",
   "language": "python",
   "name": "python3"
  },
  "language_info": {
   "codemirror_mode": {
    "name": "ipython",
    "version": 3
   },
   "file_extension": ".py",
   "mimetype": "text/x-python",
   "name": "python",
   "nbconvert_exporter": "python",
   "pygments_lexer": "ipython3",
   "version": "3.8.10"
  }
 },
 "nbformat": 4,
 "nbformat_minor": 5
}