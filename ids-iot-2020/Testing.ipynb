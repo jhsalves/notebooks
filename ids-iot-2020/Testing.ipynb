{
 "cells": [
  {
   "cell_type": "code",
   "execution_count": 8,
   "id": "9879d78e",
   "metadata": {},
   "outputs": [],
   "source": [
    "import os\n",
    "\n",
    "import flwr as fl\n",
    "import tensorflow as tf\n",
    "import zipfile\n",
    "import pandas as pd\n",
    "import numpy as np\n",
    "import seaborn as sns\n",
    "import matplotlib.pyplot as plt\n",
    "from sklearn.impute import SimpleImputer\n",
    "from sklearn import preprocessing\n",
    "from sklearn.model_selection import train_test_split"
   ]
  },
  {
   "cell_type": "code",
   "execution_count": 29,
   "id": "2674e71b",
   "metadata": {},
   "outputs": [
    {
     "data": {
      "text/plain": [
       "((          0         1         2    3    4    5         6         7    8    9   \\\n",
       "  537653  0.16  1.000000  0.024316  1.0  0.0  0.0  0.774898  0.000795  0.0  0.0   \n",
       "  132493  0.16  0.984127  0.018237  1.0  0.0  0.0  0.028782  0.728895  0.0  0.0   \n",
       "  450431  0.16  1.000000  0.024316  1.0  0.0  0.0  0.522527  0.028782  0.0  0.0   \n",
       "  297306  0.16  0.984127  0.018237  1.0  0.0  0.0  0.028782  0.582997  0.0  0.0   \n",
       "  389911  0.16  0.984127  0.024316  1.0  0.0  0.0  0.028782  0.710513  0.0  0.0   \n",
       "  ...      ...       ...       ...  ...  ...  ...       ...       ...  ...  ...   \n",
       "  439540  0.12  1.000000  1.000000  1.0  0.0  0.0  0.720346  0.018857  0.0  0.0   \n",
       "  519586  0.28  0.984127  0.021277  1.0  0.0  0.0  0.028782  0.654080  0.0  0.0   \n",
       "  279763  0.16  0.984127  0.018237  1.0  0.0  0.0  0.028782  0.546018  0.0  0.0   \n",
       "  566709  0.28  0.984127  0.021277  1.0  0.0  0.0  0.028782  0.513504  0.0  0.0   \n",
       "  473295  0.16  0.984127  0.018237  1.0  0.0  0.0  0.028782  0.929268  0.0  0.0   \n",
       "  \n",
       "          ...       17        18        19   20   21   22   23   24   25   26  \n",
       "  537653  ...  0.00000  0.298023  0.197554  0.0  0.0  0.0  0.0  0.0  0.0  0.0  \n",
       "  132493  ...  0.00000  0.298023  0.197554  0.0  0.0  0.0  0.0  0.0  0.0  0.0  \n",
       "  450431  ...  0.00000  0.298023  0.197554  0.0  0.0  0.0  0.0  0.0  0.0  0.0  \n",
       "  297306  ...  0.00000  0.298023  0.197554  0.0  0.0  0.0  0.0  0.0  0.0  0.0  \n",
       "  389911  ...  0.00000  0.298023  0.197554  0.0  0.0  0.0  0.0  0.0  0.0  0.0  \n",
       "  ...     ...      ...       ...       ...  ...  ...  ...  ...  ...  ...  ...  \n",
       "  439540  ...  0.14497  0.298023  0.197554  0.0  0.0  0.0  0.0  0.0  0.0  0.0  \n",
       "  519586  ...  0.00000  0.076923  0.017544  0.0  0.0  0.0  0.0  0.0  0.0  0.0  \n",
       "  279763  ...  0.00000  0.298023  0.197554  0.0  0.0  0.0  0.0  0.0  0.0  0.0  \n",
       "  566709  ...  0.00000  0.076923  0.017544  0.0  0.0  0.0  0.0  0.0  0.0  0.0  \n",
       "  473295  ...  0.00000  0.298023  0.197554  0.0  0.0  0.0  0.0  0.0  0.0  0.0  \n",
       "  \n",
       "  [713787 rows x 27 columns],\n",
       "  array([0, 0, 0, ..., 0, 0, 0])),\n",
       " (          0         1         2    3    4    5         6         7    8    9   \\\n",
       "  742641  1.00  0.984127  0.034954  1.0  0.0  0.0  0.597678  0.000321  0.0  0.0   \n",
       "  284281  0.28  1.000000  0.047872  1.0  0.0  0.0  0.731648  0.028782  0.0  0.0   \n",
       "  152558  0.28  1.000000  0.034195  1.0  0.0  0.0  0.594283  0.028782  0.0  0.0   \n",
       "  590504  0.28  0.984127  0.021277  1.0  0.0  0.0  0.028782  0.517603  0.0  0.0   \n",
       "  482858  0.28  1.000000  0.019757  1.0  0.0  0.0  0.538402  0.028782  0.0  0.0   \n",
       "  ...      ...       ...       ...  ...  ...  ...       ...       ...  ...  ...   \n",
       "  280042  0.16  0.984127  0.024316  1.0  0.0  0.0  0.028782  0.728253  0.0  0.0   \n",
       "  206085  0.16  1.000000  0.018237  1.0  0.0  0.0  0.714030  0.028782  0.0  0.0   \n",
       "  439831  0.28  1.000000  0.055471  1.0  0.0  0.0  0.684330  0.028782  0.0  0.0   \n",
       "  325143  0.16  1.000000  0.018237  1.0  0.0  0.0  0.927586  0.028782  0.0  0.0   \n",
       "  717160  0.16  1.000000  0.018237  1.0  0.0  0.0  0.000321  0.560393  0.0  0.0   \n",
       "  \n",
       "          ...   17        18        19   20   21   22   23   24   25   26  \n",
       "  742641  ...  0.0  0.298023  0.197554  0.0  0.0  0.0  0.0  0.0  0.0  0.0  \n",
       "  284281  ...  0.0  0.153846  0.324561  0.0  0.0  0.0  0.0  0.0  0.0  0.0  \n",
       "  152558  ...  0.0  0.153846  0.166667  0.0  0.0  0.0  0.0  0.0  0.0  0.0  \n",
       "  590504  ...  0.0  0.076923  0.017544  0.0  0.0  0.0  0.0  0.0  0.0  0.0  \n",
       "  482858  ...  1.0  1.000000  0.000000  0.0  0.0  0.0  0.0  0.0  0.0  0.0  \n",
       "  ...     ...  ...       ...       ...  ...  ...  ...  ...  ...  ...  ...  \n",
       "  280042  ...  0.0  0.298023  0.197554  0.0  0.0  0.0  0.0  0.0  0.0  0.0  \n",
       "  206085  ...  0.0  0.298023  0.197554  0.0  0.0  0.0  0.0  0.0  0.0  0.0  \n",
       "  439831  ...  0.0  0.000000  0.412281  0.0  0.0  0.0  0.0  0.0  0.0  0.0  \n",
       "  325143  ...  0.0  0.298023  0.197554  0.0  0.0  0.0  0.0  0.0  0.0  0.0  \n",
       "  717160  ...  0.0  0.298023  0.197554  0.0  0.0  0.0  0.0  0.0  0.0  0.0  \n",
       "  \n",
       "  [37568 rows x 27 columns],\n",
       "  array([1, 0, 0, ..., 0, 0, 1])),\n",
       " 27,\n",
       "                           timestamp       src_ip       dst_ip  protocol   ttl  \\\n",
       " 0       02/14/2020, 13:45:25:637625  192.168.2.5  192.168.2.1         1  64.0   \n",
       " 1       02/14/2020, 13:45:25:637633  192.168.2.5  192.168.2.1         1  64.0   \n",
       " 2       02/14/2020, 13:45:25:637757  192.168.2.1  192.168.2.5         1  64.0   \n",
       " 3       02/14/2020, 13:45:25:637773  192.168.2.1  192.168.2.5         1  64.0   \n",
       " 4       02/14/2020, 13:45:25:637948  192.168.2.5      8.8.8.8         1  64.0   \n",
       " ...                             ...          ...          ...       ...   ...   \n",
       " 751350  02/14/2020, 16:44:22:158558  192.168.2.5     10.0.0.5        26  63.0   \n",
       " 751351  02/14/2020, 16:44:22:158686  192.168.2.5     10.0.0.5        26  63.0   \n",
       " 751352  02/14/2020, 16:44:22:158729     10.0.0.5  192.168.2.5         5  64.0   \n",
       " 751353  02/14/2020, 16:44:22:158743     10.0.0.5  192.168.2.5        26  64.0   \n",
       " 751354  02/14/2020, 16:44:22:158755     10.0.0.5  192.168.2.5        26  64.0   \n",
       " \n",
       "         ip_len  ip_flag_df  ip_flag_mf  ip_flag_rb  src_port  ...  \\\n",
       " 0         83.0         1.0         0.0         0.0     46279  ...   \n",
       " 1         83.0         1.0         0.0         0.0     46279  ...   \n",
       " 2         83.0         1.0         0.0         0.0        53  ...   \n",
       " 3         83.0         1.0         0.0         0.0        53  ...   \n",
       " 4         83.0         1.0         0.0         0.0     53405  ...   \n",
       " ...        ...         ...         ...         ...       ...  ...   \n",
       " 751350   116.0         1.0         0.0         0.0     39910  ...   \n",
       " 751351   100.0         1.0         0.0         0.0     39924  ...   \n",
       " 751352    52.0         1.0         0.0         0.0        22  ...   \n",
       " 751353   148.0         1.0         0.0         0.0        22  ...   \n",
       " 751354   116.0         1.0         0.0         0.0        22  ...   \n",
       " \n",
       "         mqtt_messagetype  mqtt_messagelength  mqtt_flag_uname  \\\n",
       " 0                    NaN                 NaN              NaN   \n",
       " 1                    NaN                 NaN              NaN   \n",
       " 2                    NaN                 NaN              NaN   \n",
       " 3                    NaN                 NaN              NaN   \n",
       " 4                    NaN                 NaN              NaN   \n",
       " ...                  ...                 ...              ...   \n",
       " 751350               NaN                 NaN              NaN   \n",
       " 751351               NaN                 NaN              NaN   \n",
       " 751352               NaN                 NaN              NaN   \n",
       " 751353               NaN                 NaN              NaN   \n",
       " 751354               NaN                 NaN              NaN   \n",
       " \n",
       "         mqtt_flag_passwd  mqtt_flag_retain  mqtt_flag_qos  mqtt_flag_willflag  \\\n",
       " 0                    NaN               NaN            NaN                 NaN   \n",
       " 1                    NaN               NaN            NaN                 NaN   \n",
       " 2                    NaN               NaN            NaN                 NaN   \n",
       " 3                    NaN               NaN            NaN                 NaN   \n",
       " 4                    NaN               NaN            NaN                 NaN   \n",
       " ...                  ...               ...            ...                 ...   \n",
       " 751350               NaN               NaN            NaN                 NaN   \n",
       " 751351               NaN               NaN            NaN                 NaN   \n",
       " 751352               NaN               NaN            NaN                 NaN   \n",
       " 751353               NaN               NaN            NaN                 NaN   \n",
       " 751354               NaN               NaN            NaN                 NaN   \n",
       " \n",
       "         mqtt_flag_clean  mqtt_flag_reserved  is_attack  \n",
       " 0                   NaN                 NaN          1  \n",
       " 1                   NaN                 NaN          1  \n",
       " 2                   NaN                 NaN          1  \n",
       " 3                   NaN                 NaN          1  \n",
       " 4                   NaN                 NaN          1  \n",
       " ...                 ...                 ...        ...  \n",
       " 751350              NaN                 NaN          1  \n",
       " 751351              NaN                 NaN          1  \n",
       " 751352              NaN                 NaN          1  \n",
       " 751353              NaN                 NaN          1  \n",
       " 751354              NaN                 NaN          1  \n",
       " \n",
       " [751355 rows x 31 columns])"
      ]
     },
     "execution_count": 29,
     "metadata": {},
     "output_type": "execute_result"
    }
   ],
   "source": [
    "def ids_iot_2020_datasets():\n",
    "    with zipfile.ZipFile(\"combinedcsvs.zip\", \"r\") as zip_ref:\n",
    "        zip_ref.extractall()\n",
    "        \n",
    "    dataset = pd.read_csv('combinedcsvs.csv')\n",
    "    colunas = ['protocol']\n",
    "    list_protocol = dataset.drop_duplicates(subset = colunas)['protocol']\n",
    "    protocol = { row: idx + 1 for idx, row in enumerate(list_protocol) }\n",
    "    dataset.protocol = [protocol[item] for item in dataset.protocol]\n",
    "    features = pd.DataFrame(dataset.iloc[:, 3:30].values)\n",
    "    scaler = preprocessing.MinMaxScaler()\n",
    "    X = scaler.fit_transform(features)\n",
    "    my_imputer = SimpleImputer(missing_values = np.nan,\n",
    "                            strategy ='mean')\n",
    "    X = pd.DataFrame(my_imputer.fit_transform(X))\n",
    "    y = dataset.iloc[:, 30].values\n",
    "    X_training, X_testing, y_training, y_testing = train_test_split(X, y, test_size = 0.05)\n",
    "    return (X_training, y_training), (X_testing, y_testing), X.shape[1],dataset\n",
    "\n",
    "ids_iot_2020_datasets()"
   ]
  },
  {
   "cell_type": "code",
   "execution_count": 26,
   "id": "ee4dcb0d",
   "metadata": {},
   "outputs": [],
   "source": [
    "    with zipfile.ZipFile(\"combinedcsvs.zip\", \"r\") as zip_ref:\n",
    "        zip_ref.extractall()\n",
    "        \n",
    "    dataset = pd.read_csv('combinedcsvs.csv')\n",
    "    colunas = ['protocol']\n",
    "    list_protocol = dataset.drop_duplicates(subset = colunas)['protocol']\n",
    "    protocol = { row: idx + 1 for idx, row in enumerate(list_protocol) }\n",
    "    dataset.protocol = [protocol[item] for item in dataset.protocol]"
   ]
  },
  {
   "cell_type": "code",
   "execution_count": 27,
   "id": "257a644e",
   "metadata": {},
   "outputs": [
    {
     "ename": "NameError",
     "evalue": "name 'old_df' is not defined",
     "output_type": "error",
     "traceback": [
      "\u001b[0;31m---------------------------------------------------------------------------\u001b[0m",
      "\u001b[0;31mNameError\u001b[0m                                 Traceback (most recent call last)",
      "\u001b[0;32m/tmp/ipykernel_12963/4165231603.py\u001b[0m in \u001b[0;36m<module>\u001b[0;34m\u001b[0m\n\u001b[1;32m      7\u001b[0m \u001b[0mscaler\u001b[0m \u001b[0;34m=\u001b[0m \u001b[0mpreprocessing\u001b[0m\u001b[0;34m.\u001b[0m\u001b[0mMinMaxScaler\u001b[0m\u001b[0;34m(\u001b[0m\u001b[0;34m)\u001b[0m\u001b[0;34m\u001b[0m\u001b[0;34m\u001b[0m\u001b[0m\n\u001b[1;32m      8\u001b[0m \u001b[0mX\u001b[0m \u001b[0;34m=\u001b[0m \u001b[0mpd\u001b[0m\u001b[0;34m.\u001b[0m\u001b[0mDataFrame\u001b[0m\u001b[0;34m(\u001b[0m\u001b[0mscaler\u001b[0m\u001b[0;34m.\u001b[0m\u001b[0mfit_transform\u001b[0m\u001b[0;34m(\u001b[0m\u001b[0mfeatures\u001b[0m\u001b[0;34m)\u001b[0m\u001b[0;34m)\u001b[0m\u001b[0;34m\u001b[0m\u001b[0;34m\u001b[0m\u001b[0m\n\u001b[0;32m----> 9\u001b[0;31m \u001b[0mfeatures\u001b[0m\u001b[0;34m,\u001b[0m \u001b[0mold_df\u001b[0m\u001b[0;34m\u001b[0m\u001b[0;34m\u001b[0m\u001b[0m\n\u001b[0m\u001b[1;32m     10\u001b[0m \u001b[0;31m#//my_imputer = SimpleImputer(missing_values = np.nan,strategy ='mean')\u001b[0m\u001b[0;34m\u001b[0m\u001b[0;34m\u001b[0m\u001b[0;34m\u001b[0m\u001b[0m\n\u001b[1;32m     11\u001b[0m \u001b[0;31m#X = pd.DataFrame(my_imputer.fit_transform(X))\u001b[0m\u001b[0;34m\u001b[0m\u001b[0;34m\u001b[0m\u001b[0;34m\u001b[0m\u001b[0m\n",
      "\u001b[0;31mNameError\u001b[0m: name 'old_df' is not defined"
     ]
    }
   ],
   "source": [
    "    features = dataset.iloc[:, 3:30].values\n",
    "    features = pd.DataFrame(features)\n",
    "    M = len(features.index)\n",
    "    N = len(features.columns)\n",
    "    ran = pd.DataFrame(np.random.randn(M,N), columns=features.columns, index=features.index)\n",
    "    features.update(ran, overwrite = False)\n",
    "    scaler = preprocessing.MinMaxScaler()\n",
    "    X = pd.DataFrame(scaler.fit_transform(features))\n",
    "    features, old_df\n",
    "    #//my_imputer = SimpleImputer(missing_values = np.nan,strategy ='mean')\n",
    "    #X = pd.DataFrame(my_imputer.fit_transform(X))\n",
    "    #y = dataset.iloc[:, 30].values\n",
    "    #X,y"
   ]
  },
  {
   "cell_type": "code",
   "execution_count": 5,
   "id": "698b5e50",
   "metadata": {},
   "outputs": [
    {
     "data": {
      "text/plain": [
       "751355"
      ]
     },
     "execution_count": 5,
     "metadata": {},
     "output_type": "execute_result"
    }
   ],
   "source": [
    "len(y)"
   ]
  },
  {
   "cell_type": "code",
   "execution_count": null,
   "id": "aa608c5f",
   "metadata": {},
   "outputs": [],
   "source": [
    "series.fillna(value=1)"
   ]
  }
 ],
 "metadata": {
  "kernelspec": {
   "display_name": "Python 3 (ipykernel)",
   "language": "python",
   "name": "python3"
  },
  "language_info": {
   "codemirror_mode": {
    "name": "ipython",
    "version": 3
   },
   "file_extension": ".py",
   "mimetype": "text/x-python",
   "name": "python",
   "nbconvert_exporter": "python",
   "pygments_lexer": "ipython3",
   "version": "3.8.10"
  }
 },
 "nbformat": 4,
 "nbformat_minor": 5
}
