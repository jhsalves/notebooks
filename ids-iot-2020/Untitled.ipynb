{
 "cells": [
  {
   "cell_type": "code",
   "execution_count": 2,
   "id": "9879d78e",
   "metadata": {},
   "outputs": [
    {
     "name": "stderr",
     "output_type": "stream",
     "text": [
      "2021-11-16 00:59:15.186891: W tensorflow/stream_executor/platform/default/dso_loader.cc:64] Could not load dynamic library 'libcudart.so.11.0'; dlerror: libcudart.so.11.0: cannot open shared object file: No such file or directory\n",
      "2021-11-16 00:59:15.186941: I tensorflow/stream_executor/cuda/cudart_stub.cc:29] Ignore above cudart dlerror if you do not have a GPU set up on your machine.\n"
     ]
    }
   ],
   "source": [
    "import os\n",
    "\n",
    "import flwr as fl\n",
    "import tensorflow as tf\n",
    "import zipfile\n",
    "import pandas as pd\n",
    "import numpy as np\n",
    "import seaborn as sns\n",
    "import matplotlib.pyplot as plt\n",
    "from sklearn.impute import SimpleImputer\n",
    "from sklearn import preprocessing\n",
    "from sklearn.model_selection import train_test_split"
   ]
  },
  {
   "cell_type": "code",
   "execution_count": 3,
   "id": "ee4dcb0d",
   "metadata": {},
   "outputs": [],
   "source": [
    "    with zipfile.ZipFile(\"combinedcsvs.zip\", \"r\") as zip_ref:\n",
    "        zip_ref.extractall()\n",
    "        \n",
    "    dataset = pd.read_csv('combinedcsvs.csv')\n",
    "    protocol = {'CLDAP':1,'DATA':2,'DHCP':3,'DNS':4,'DTLS':5,'DVB_SDT':6,'ECHO':7,'ISAKMP':8,'MDNS':9,'MP2T':0,'MPEG_PAT':11,'MPEG_PMT':12,'MQTT':13,'NAT-PMP':14,'NBNS':15,'NTP':16,'PORTMAP':17,'RADIUS':18,'RIP':19,'SNMP':20,'SRVLOC':21,'SSH':22,'TCP':23,'UDP':24,'XDMCP':25,'NFS':26}\n",
    "    dataset.protocol = [protocol[item] for item in dataset.protocol]"
   ]
  },
  {
   "cell_type": "code",
   "execution_count": 23,
   "id": "257a644e",
   "metadata": {},
   "outputs": [
    {
     "data": {
      "text/plain": [
       "(          0     1      2    3    4    5        6        7         8   \\\n",
       " 0        4.0  64.0   83.0  1.0  0.0  0.0  46279.0     53.0 -0.114158   \n",
       " 1        4.0  64.0   83.0  1.0  0.0  0.0  46279.0     53.0 -2.469393   \n",
       " 2        4.0  64.0   83.0  1.0  0.0  0.0     53.0  46279.0 -0.494329   \n",
       " 3        4.0  64.0   83.0  1.0  0.0  0.0     53.0  46279.0 -1.834730   \n",
       " 4        4.0  64.0   83.0  1.0  0.0  0.0  53405.0     53.0 -0.089060   \n",
       " ...      ...   ...    ...  ...  ...  ...      ...      ...       ...   \n",
       " 751350  22.0  63.0  116.0  1.0  0.0  0.0  39910.0     22.0  0.000000   \n",
       " 751351  22.0  63.0  100.0  1.0  0.0  0.0  39924.0     22.0  0.000000   \n",
       " 751352  23.0  64.0   52.0  1.0  0.0  0.0     22.0  39910.0  0.000000   \n",
       " 751353  22.0  64.0  148.0  1.0  0.0  0.0     22.0  39902.0  0.000000   \n",
       " 751354  22.0  64.0  116.0  1.0  0.0  0.0     22.0  39910.0  0.000000   \n",
       " \n",
       "               9   ...        17        18        19        20        21  \\\n",
       " 0      -0.912875  ... -0.323284  0.099949  0.856015  0.753299 -0.297743   \n",
       " 1      -0.890074  ... -0.010778 -0.060875  0.835158  0.293135 -0.061810   \n",
       " 2       1.531335  ... -0.757280 -0.402251 -0.552989 -0.987430  0.719421   \n",
       " 3       0.941799  ...  0.933337 -0.588840  1.722631  0.874569 -1.150666   \n",
       " 4       0.103804  ... -0.848238  0.380812 -0.899022  0.243515 -1.571958   \n",
       " ...          ...  ...       ...       ...       ...       ...       ...   \n",
       " 751350  0.000000  ...  0.000000  0.911268  1.474204 -0.666691 -0.542848   \n",
       " 751351  0.000000  ...  0.000000 -0.507389  0.334962 -0.430484 -0.681810   \n",
       " 751352  0.000000  ...  0.000000 -0.767981  0.367455 -0.395294 -0.641844   \n",
       " 751353  0.000000  ...  0.000000  1.746300  1.002050  0.974988 -0.709085   \n",
       " 751354  0.000000  ...  0.000000  1.253388  0.339178  0.939690 -0.802149   \n",
       " \n",
       "               22        23        24        25        26  \n",
       " 0       0.876714  0.001982  1.499813 -0.504248  0.966307  \n",
       " 1       0.228900 -0.996970  0.137228  1.353720 -0.473010  \n",
       " 2      -0.680344  0.721385 -1.310073 -0.046207  0.321549  \n",
       " 3      -0.842170  1.096736 -1.630132  0.883066  0.864942  \n",
       " 4      -1.236122  0.236022  1.037289 -0.599146  0.360594  \n",
       " ...          ...       ...       ...       ...       ...  \n",
       " 751350  0.659549  0.334338 -0.610924 -1.445050  0.352827  \n",
       " 751351 -1.009117  0.493419  0.416842 -0.049050 -1.330644  \n",
       " 751352 -1.354643 -0.638192  0.884196  0.239540 -0.034454  \n",
       " 751353  0.527763  0.055559  0.814347  1.840738 -1.153968  \n",
       " 751354 -0.324763  0.256942  1.705209  0.660739  0.424582  \n",
       " \n",
       " [751355 rows x 27 columns],\n",
       "           0     1      2    3    4    5        6        7    8    9   ...  \\\n",
       " 0        4.0  64.0   83.0  1.0  0.0  0.0  46279.0     53.0  NaN  NaN  ...   \n",
       " 1        4.0  64.0   83.0  1.0  0.0  0.0  46279.0     53.0  NaN  NaN  ...   \n",
       " 2        4.0  64.0   83.0  1.0  0.0  0.0     53.0  46279.0  NaN  NaN  ...   \n",
       " 3        4.0  64.0   83.0  1.0  0.0  0.0     53.0  46279.0  NaN  NaN  ...   \n",
       " 4        4.0  64.0   83.0  1.0  0.0  0.0  53405.0     53.0  NaN  NaN  ...   \n",
       " ...      ...   ...    ...  ...  ...  ...      ...      ...  ...  ...  ...   \n",
       " 751350  22.0  63.0  116.0  1.0  0.0  0.0  39910.0     22.0  0.0  0.0  ...   \n",
       " 751351  22.0  63.0  100.0  1.0  0.0  0.0  39924.0     22.0  0.0  0.0  ...   \n",
       " 751352  23.0  64.0   52.0  1.0  0.0  0.0     22.0  39910.0  0.0  0.0  ...   \n",
       " 751353  22.0  64.0  148.0  1.0  0.0  0.0     22.0  39902.0  0.0  0.0  ...   \n",
       " 751354  22.0  64.0  116.0  1.0  0.0  0.0     22.0  39910.0  0.0  0.0  ...   \n",
       " \n",
       "          17  18  19  20  21  22  23  24  25  26  \n",
       " 0       NaN NaN NaN NaN NaN NaN NaN NaN NaN NaN  \n",
       " 1       NaN NaN NaN NaN NaN NaN NaN NaN NaN NaN  \n",
       " 2       NaN NaN NaN NaN NaN NaN NaN NaN NaN NaN  \n",
       " 3       NaN NaN NaN NaN NaN NaN NaN NaN NaN NaN  \n",
       " 4       NaN NaN NaN NaN NaN NaN NaN NaN NaN NaN  \n",
       " ...     ...  ..  ..  ..  ..  ..  ..  ..  ..  ..  \n",
       " 751350  0.0 NaN NaN NaN NaN NaN NaN NaN NaN NaN  \n",
       " 751351  0.0 NaN NaN NaN NaN NaN NaN NaN NaN NaN  \n",
       " 751352  0.0 NaN NaN NaN NaN NaN NaN NaN NaN NaN  \n",
       " 751353  0.0 NaN NaN NaN NaN NaN NaN NaN NaN NaN  \n",
       " 751354  0.0 NaN NaN NaN NaN NaN NaN NaN NaN NaN  \n",
       " \n",
       " [751355 rows x 27 columns])"
      ]
     },
     "execution_count": 23,
     "metadata": {},
     "output_type": "execute_result"
    }
   ],
   "source": [
    "    features = dataset.iloc[:, 3:30].values\n",
    "    features = pd.DataFrame(features)\n",
    "    M = len(features.index)\n",
    "    N = len(features.columns)\n",
    "    ran = pd.DataFrame(np.random.randn(M,N), columns=features.columns, index=features.index)\n",
    "    features.update(ran, overwrite = False)\n",
    "    scaler = preprocessing.MinMaxScaler()\n",
    "    X = pd.DataFrame(scaler.fit_transform(features))\n",
    "    features, old_df\n",
    "    #//my_imputer = SimpleImputer(missing_values = np.nan,strategy ='mean')\n",
    "    #X = pd.DataFrame(my_imputer.fit_transform(X))\n",
    "    #y = dataset.iloc[:, 30].values\n",
    "    #X,y"
   ]
  },
  {
   "cell_type": "code",
   "execution_count": 5,
   "id": "698b5e50",
   "metadata": {},
   "outputs": [
    {
     "data": {
      "text/plain": [
       "751355"
      ]
     },
     "execution_count": 5,
     "metadata": {},
     "output_type": "execute_result"
    }
   ],
   "source": [
    "len(y)"
   ]
  },
  {
   "cell_type": "code",
   "execution_count": null,
   "id": "aa608c5f",
   "metadata": {},
   "outputs": [],
   "source": [
    "series.fillna(value=1)"
   ]
  }
 ],
 "metadata": {
  "kernelspec": {
   "display_name": "Python 3 (ipykernel)",
   "language": "python",
   "name": "python3"
  },
  "language_info": {
   "codemirror_mode": {
    "name": "ipython",
    "version": 3
   },
   "file_extension": ".py",
   "mimetype": "text/x-python",
   "name": "python",
   "nbconvert_exporter": "python",
   "pygments_lexer": "ipython3",
   "version": "3.8.10"
  }
 },
 "nbformat": 4,
 "nbformat_minor": 5
}
