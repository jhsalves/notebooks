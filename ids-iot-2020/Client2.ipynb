{
 "cells": [
  {
   "cell_type": "code",
   "execution_count": 1,
   "id": "437cc3d2",
   "metadata": {},
   "outputs": [
    {
     "name": "stdout",
     "output_type": "stream",
     "text": [
      "/bin/bash: {sys.executable}: command not found\n",
      "/bin/bash: {sys.executable}: command not found\n"
     ]
    },
    {
     "name": "stderr",
     "output_type": "stream",
     "text": [
      "2021-11-16 01:32:24.429550: W tensorflow/stream_executor/platform/default/dso_loader.cc:64] Could not load dynamic library 'libcudart.so.11.0'; dlerror: libcudart.so.11.0: cannot open shared object file: No such file or directory\n",
      "2021-11-16 01:32:24.429591: I tensorflow/stream_executor/cuda/cudart_stub.cc:29] Ignore above cudart dlerror if you do not have a GPU set up on your machine.\n"
     ]
    }
   ],
   "source": [
    "!{sys.executable} -m pip install tensorflow\n",
    "!{sys.executable} -m pip install seaborn\n",
    "import sys\n",
    "import aux\n",
    "import tensorflow as tf"
   ]
  },
  {
   "cell_type": "code",
   "execution_count": 2,
   "id": "441b9ab8",
   "metadata": {},
   "outputs": [],
   "source": [
    "import os\n",
    "\n",
    "import flwr as fl\n",
    "import tensorflow as tf\n",
    "\n",
    "# Make TensorFlow log less verbose\n",
    "os.environ[\"TF_CPP_MIN_LOG_LEVEL\"] = \"3\"\n"
   ]
  },
  {
   "cell_type": "code",
   "execution_count": 3,
   "id": "51d9ef7d",
   "metadata": {},
   "outputs": [
    {
     "data": {
      "text/plain": [
       "['FlowerClient',\n",
       " 'SimpleImputer',\n",
       " '__builtins__',\n",
       " '__cached__',\n",
       " '__doc__',\n",
       " '__file__',\n",
       " '__loader__',\n",
       " '__name__',\n",
       " '__package__',\n",
       " '__spec__',\n",
       " 'fl',\n",
       " 'ids_iot_2020_datasets',\n",
       " 'np',\n",
       " 'os',\n",
       " 'pd',\n",
       " 'plt',\n",
       " 'preprocessing',\n",
       " 'sns',\n",
       " 'tf',\n",
       " 'train_test_split',\n",
       " 'zipfile']"
      ]
     },
     "execution_count": 3,
     "metadata": {},
     "output_type": "execute_result"
    }
   ],
   "source": [
    "dir(aux)"
   ]
  },
  {
   "cell_type": "code",
   "execution_count": 4,
   "id": "afeffe6f",
   "metadata": {},
   "outputs": [
    {
     "name": "stderr",
     "output_type": "stream",
     "text": [
      "2021-11-16 01:32:33.126185: W tensorflow/stream_executor/platform/default/dso_loader.cc:64] Could not load dynamic library 'libcuda.so.1'; dlerror: libcuda.so.1: cannot open shared object file: No such file or directory\n",
      "2021-11-16 01:32:33.126237: W tensorflow/stream_executor/cuda/cuda_driver.cc:269] failed call to cuInit: UNKNOWN ERROR (303)\n",
      "2021-11-16 01:32:33.126259: I tensorflow/stream_executor/cuda/cuda_diagnostics.cc:156] kernel driver does not appear to be running on this host (DESKTOP-KJRGBJA): /proc/driver/nvidia/version does not exist\n",
      "2021-11-16 01:32:33.126442: I tensorflow/core/platform/cpu_feature_guard.cc:151] This TensorFlow binary is optimized with oneAPI Deep Neural Network Library (oneDNN) to use the following CPU instructions in performance-critical operations:  AVX2 FMA\n",
      "To enable them in other operations, rebuild TensorFlow with the appropriate compiler flags.\n"
     ]
    }
   ],
   "source": [
    "(x_train, y_train), (x_test, y_test), shape = aux.ids_iot_2020_datasets()\n",
    "\n",
    "model = tf.keras.models.Sequential()\n",
    "model.add(tf.keras.layers.Dense(units=14, activation='relu', input_shape=(shape,)))\n",
    "model.add(tf.keras.layers.Dense(units=1, activation='sigmoid'))"
   ]
  },
  {
   "cell_type": "code",
   "execution_count": 5,
   "id": "5df00572",
   "metadata": {},
   "outputs": [],
   "source": [
    "# Define Flower client\n",
    "client = aux.FlowerClient(\"Client2\", model, (x_train, y_train), (x_test, y_test))"
   ]
  },
  {
   "cell_type": "code",
   "execution_count": 6,
   "id": "6f8f3c1e",
   "metadata": {},
   "outputs": [
    {
     "name": "stderr",
     "output_type": "stream",
     "text": [
      "DEBUG flower 2021-11-16 01:32:33,318 | connection.py:36 | ChannelConnectivity.IDLE\n",
      "DEBUG flower 2021-11-16 01:32:33,339 | connection.py:36 | ChannelConnectivity.CONNECTING\n",
      "DEBUG flower 2021-11-16 01:32:33,341 | connection.py:36 | ChannelConnectivity.READY\n",
      "INFO flower 2021-11-16 01:32:33,341 | app.py:61 | Opened (insecure) gRPC connection\n"
     ]
    },
    {
     "name": "stdout",
     "output_type": "stream",
     "text": [
      "22306/22306 [==============================] - 30s 1ms/step - loss: 0.3813 - binary_accuracy: 0.8481\n",
      "1174/1174 [==============================] - 1s 910us/step - loss: 0.9187 - binary_accuracy: 0.8066\n",
      "Client Client2 - Evaluate on 713787 samples: Average loss: 0.9187, Accuracy: 80.66%\n",
      "\n",
      "22306/22306 [==============================] - 28s 1ms/step - loss: 0.3099 - binary_accuracy: 0.8933\n",
      "1174/1174 [==============================] - 1s 863us/step - loss: 1.0839 - binary_accuracy: 0.8086\n",
      "Client Client2 - Evaluate on 713787 samples: Average loss: 1.0839, Accuracy: 80.86%\n",
      "\n",
      "22306/22306 [==============================] - 28s 1ms/step - loss: 0.2843 - binary_accuracy: 0.8944\n",
      "1174/1174 [==============================] - 1s 863us/step - loss: 1.2201 - binary_accuracy: 0.8095\n",
      "Client Client2 - Evaluate on 713787 samples: Average loss: 1.2201, Accuracy: 80.95%\n",
      "\n",
      "22306/22306 [==============================] - 28s 1ms/step - loss: 0.2756 - binary_accuracy: 0.8957\n",
      "1174/1174 [==============================] - 1s 943us/step - loss: 1.3006 - binary_accuracy: 0.8096\n",
      "Client Client2 - Evaluate on 713787 samples: Average loss: 1.3006, Accuracy: 80.96%\n",
      "\n",
      "22306/22306 [==============================] - 30s 1ms/step - loss: 0.2687 - binary_accuracy: 0.8985\n",
      "1174/1174 [==============================] - 1s 855us/step - loss: 1.4022 - binary_accuracy: 0.8095\n",
      "Client Client2 - Evaluate on 713787 samples: Average loss: 1.4022, Accuracy: 80.95%\n",
      "\n",
      "22306/22306 [==============================] - 28s 1ms/step - loss: 0.2615 - binary_accuracy: 0.9018\n",
      "1174/1174 [==============================] - 1s 867us/step - loss: 1.4881 - binary_accuracy: 0.8095\n",
      "Client Client2 - Evaluate on 713787 samples: Average loss: 1.4881, Accuracy: 80.95%\n",
      "\n",
      "22306/22306 [==============================] - 29s 1ms/step - loss: 0.2564 - binary_accuracy: 0.9048\n",
      "1174/1174 [==============================] - 1s 938us/step - loss: 1.5126 - binary_accuracy: 0.8098\n",
      "Client Client2 - Evaluate on 713787 samples: Average loss: 1.5126, Accuracy: 80.98%\n",
      "\n",
      "22306/22306 [==============================] - 30s 1ms/step - loss: 0.2520 - binary_accuracy: 0.9070\n",
      "1174/1174 [==============================] - 1s 1ms/step - loss: 1.5781 - binary_accuracy: 0.8105\n",
      "Client Client2 - Evaluate on 713787 samples: Average loss: 1.5781, Accuracy: 81.05%\n",
      "\n",
      "22306/22306 [==============================] - 29s 1ms/step - loss: 0.2475 - binary_accuracy: 0.9091\n",
      "1174/1174 [==============================] - 1s 874us/step - loss: 1.6026 - binary_accuracy: 0.8107\n",
      "Client Client2 - Evaluate on 713787 samples: Average loss: 1.6026, Accuracy: 81.07%\n",
      "\n",
      "22306/22306 [==============================] - 28s 1ms/step - loss: 0.2426 - binary_accuracy: 0.9117\n",
      "1174/1174 [==============================] - 1s 851us/step - loss: 1.6598 - binary_accuracy: 0.8108\n",
      "Client Client2 - Evaluate on 713787 samples: Average loss: 1.6598, Accuracy: 81.08%\n",
      "\n",
      "1174/1174 [==============================] - 1s 877us/step - loss: 1.6598 - binary_accuracy: 0.8108\n"
     ]
    },
    {
     "name": "stderr",
     "output_type": "stream",
     "text": [
      "DEBUG flower 2021-11-16 01:38:04,930 | connection.py:68 | Insecure gRPC channel closed\n",
      "INFO flower 2021-11-16 01:38:04,931 | app.py:72 | Disconnect and shut down\n"
     ]
    },
    {
     "name": "stdout",
     "output_type": "stream",
     "text": [
      "Client Client2 - Evaluate on 713787 samples: Average loss: 1.6598, Accuracy: 81.08%\n",
      "\n"
     ]
    }
   ],
   "source": [
    "server_address = \"[::]:8081\"\n",
    "\n",
    "fl.client.start_numpy_client(server_address, client=client)"
   ]
  },
  {
   "cell_type": "code",
   "execution_count": null,
   "id": "0f405886",
   "metadata": {},
   "outputs": [],
   "source": []
  }
 ],
 "metadata": {
  "kernelspec": {
   "display_name": "Python 3 (ipykernel)",
   "language": "python",
   "name": "python3"
  },
  "language_info": {
   "codemirror_mode": {
    "name": "ipython",
    "version": 3
   },
   "file_extension": ".py",
   "mimetype": "text/x-python",
   "name": "python",
   "nbconvert_exporter": "python",
   "pygments_lexer": "ipython3",
   "version": "3.8.10"
  }
 },
 "nbformat": 4,
 "nbformat_minor": 5
}
