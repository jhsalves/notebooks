{
 "cells": [
  {
   "cell_type": "code",
   "execution_count": 1,
   "id": "437cc3d2",
   "metadata": {},
   "outputs": [
    {
     "name": "stdout",
     "output_type": "stream",
     "text": [
      "/bin/bash: {sys.executable}: command not found\n",
      "/bin/bash: {sys.executable}: command not found\n"
     ]
    },
    {
     "name": "stderr",
     "output_type": "stream",
     "text": [
      "2021-11-20 00:31:10.778369: W tensorflow/stream_executor/platform/default/dso_loader.cc:64] Could not load dynamic library 'libcudart.so.11.0'; dlerror: libcudart.so.11.0: cannot open shared object file: No such file or directory\n",
      "2021-11-20 00:31:10.778416: I tensorflow/stream_executor/cuda/cudart_stub.cc:29] Ignore above cudart dlerror if you do not have a GPU set up on your machine.\n"
     ]
    }
   ],
   "source": [
    "!{sys.executable} -m pip install tensorflow\n",
    "!{sys.executable} -m pip install seaborn\n",
    "import os\n",
    "import sys\n",
    "import aux\n",
    "import tensorflow as tf\n",
    "import flwr as fl\n",
    "import tensorflow as tf\n",
    "\n",
    "# Make TensorFlow log less verbose\n",
    "os.environ[\"TF_CPP_MIN_LOG_LEVEL\"] = \"3\"\n"
   ]
  },
  {
   "cell_type": "code",
   "execution_count": 2,
   "id": "afeffe6f",
   "metadata": {},
   "outputs": [
    {
     "name": "stderr",
     "output_type": "stream",
     "text": [
      "2021-11-20 00:31:20.599920: W tensorflow/stream_executor/platform/default/dso_loader.cc:64] Could not load dynamic library 'libcuda.so.1'; dlerror: libcuda.so.1: cannot open shared object file: No such file or directory\n",
      "2021-11-20 00:31:20.599972: W tensorflow/stream_executor/cuda/cuda_driver.cc:269] failed call to cuInit: UNKNOWN ERROR (303)\n",
      "2021-11-20 00:31:20.599992: I tensorflow/stream_executor/cuda/cuda_diagnostics.cc:156] kernel driver does not appear to be running on this host (DESKTOP-KJRGBJA): /proc/driver/nvidia/version does not exist\n",
      "2021-11-20 00:31:20.600246: I tensorflow/core/platform/cpu_feature_guard.cc:151] This TensorFlow binary is optimized with oneAPI Deep Neural Network Library (oneDNN) to use the following CPU instructions in performance-critical operations:  AVX2 FMA\n",
      "To enable them in other operations, rebuild TensorFlow with the appropriate compiler flags.\n"
     ]
    }
   ],
   "source": [
    "model, (x_train, y_train), (x_test, y_test), shape, batch_size, epochs, validation_split = aux.build_model_with_parameters(epochs = 1)"
   ]
  },
  {
   "cell_type": "code",
   "execution_count": 3,
   "id": "7e3ee749",
   "metadata": {},
   "outputs": [
    {
     "data": {
      "application/javascript": [
       "IPython.notebook.kernel.execute('nb_name = \"' + IPython.notebook.notebook_name + '\"')\n"
      ],
      "text/plain": [
       "<IPython.core.display.Javascript object>"
      ]
     },
     "metadata": {},
     "output_type": "display_data"
    }
   ],
   "source": [
    "%%javascript\n",
    "IPython.notebook.kernel.execute('nb_name = \"' + IPython.notebook.notebook_name + '\"')"
   ]
  },
  {
   "cell_type": "code",
   "execution_count": 4,
   "id": "c0716299",
   "metadata": {},
   "outputs": [],
   "source": [
    "import os\n",
    "client_name = \"Client3\""
   ]
  },
  {
   "cell_type": "code",
   "execution_count": 5,
   "id": "5df00572",
   "metadata": {},
   "outputs": [],
   "source": [
    "client = aux.FlowerClient(client_name, model, (x_train, y_train), (x_test, y_test), batch_size, epochs, validation_split)"
   ]
  },
  {
   "cell_type": "code",
   "execution_count": null,
   "id": "6f8f3c1e",
   "metadata": {},
   "outputs": [
    {
     "name": "stderr",
     "output_type": "stream",
     "text": [
      "DEBUG flower 2021-11-20 00:31:20,852 | connection.py:36 | ChannelConnectivity.IDLE\n",
      "DEBUG flower 2021-11-20 00:31:20,853 | connection.py:36 | ChannelConnectivity.CONNECTING\n",
      "INFO flower 2021-11-20 00:31:20,853 | app.py:61 | Opened (insecure) gRPC connection\n",
      "DEBUG flower 2021-11-20 00:31:20,856 | connection.py:36 | ChannelConnectivity.READY\n"
     ]
    },
    {
     "name": "stdout",
     "output_type": "stream",
     "text": [
      "20076/20076 [==============================] - 37s 2ms/step - loss: 0.2748 - binary_accuracy: 0.9002 - val_loss: 0.2541 - val_binary_accuracy: 0.9052\n",
      "1174/1174 [==============================] - 2s 2ms/step - loss: 0.2573 - binary_accuracy: 0.9052\n",
      "Client Client3 - Evaluate on 713787 samples: Average loss: 0.2573, Accuracy: 90.52%\n",
      "\n",
      "20076/20076 [==============================] - 35s 2ms/step - loss: 0.2263 - binary_accuracy: 0.9140 - val_loss: 0.2081 - val_binary_accuracy: 0.9264\n",
      "1174/1174 [==============================] - 2s 2ms/step - loss: 0.2012 - binary_accuracy: 0.9247\n",
      "Client Client3 - Evaluate on 713787 samples: Average loss: 0.2012, Accuracy: 92.47%\n",
      "\n",
      "20076/20076 [==============================] - 36s 2ms/step - loss: 0.1949 - binary_accuracy: 0.9268 - val_loss: 0.1848 - val_binary_accuracy: 0.9281\n",
      "1174/1174 [==============================] - 2s 2ms/step - loss: 0.1793 - binary_accuracy: 0.9281\n",
      "Client Client3 - Evaluate on 713787 samples: Average loss: 0.1793, Accuracy: 92.81%\n",
      "\n",
      "20076/20076 [==============================] - 35s 2ms/step - loss: 0.1804 - binary_accuracy: 0.9378 - val_loss: 0.1720 - val_binary_accuracy: 0.9518\n",
      "1174/1174 [==============================] - 2s 2ms/step - loss: 0.1650 - binary_accuracy: 0.9514\n",
      "Client Client3 - Evaluate on 713787 samples: Average loss: 0.1650, Accuracy: 95.14%\n",
      "\n",
      "20076/20076 [==============================] - 35s 2ms/step - loss: 0.1610 - binary_accuracy: 0.9591 - val_loss: 0.1508 - val_binary_accuracy: 0.9626\n",
      "1174/1174 [==============================] - 2s 2ms/step - loss: 0.1421 - binary_accuracy: 0.9657\n",
      "Client Client3 - Evaluate on 713787 samples: Average loss: 0.1421, Accuracy: 96.57%\n",
      "\n",
      "20076/20076 [==============================] - 34s 2ms/step - loss: 0.1470 - binary_accuracy: 0.9634 - val_loss: 0.1444 - val_binary_accuracy: 0.9637\n",
      "1174/1174 [==============================] - 2s 1ms/step - loss: 0.1347 - binary_accuracy: 0.9657\n",
      "Client Client3 - Evaluate on 713787 samples: Average loss: 0.1347, Accuracy: 96.57%\n",
      "\n",
      "20076/20076 [==============================] - 35s 2ms/step - loss: 0.1430 - binary_accuracy: 0.9637 - val_loss: 0.1425 - val_binary_accuracy: 0.9626\n",
      "1174/1174 [==============================] - 2s 1ms/step - loss: 0.1330 - binary_accuracy: 0.9659\n",
      "Client Client3 - Evaluate on 713787 samples: Average loss: 0.1330, Accuracy: 96.59%\n",
      "\n",
      "20076/20076 [==============================] - 34s 2ms/step - loss: 0.1414 - binary_accuracy: 0.9638 - val_loss: 0.1399 - val_binary_accuracy: 0.9630\n",
      "1174/1174 [==============================] - 2s 1ms/step - loss: 0.1321 - binary_accuracy: 0.9664\n",
      "Client Client3 - Evaluate on 713787 samples: Average loss: 0.1321, Accuracy: 96.64%\n",
      "\n",
      "20076/20076 [==============================] - 34s 2ms/step - loss: 0.1407 - binary_accuracy: 0.9638 - val_loss: 0.1413 - val_binary_accuracy: 0.9627\n",
      "1174/1174 [==============================] - 2s 2ms/step - loss: 0.1309 - binary_accuracy: 0.9659\n",
      "Client Client3 - Evaluate on 713787 samples: Average loss: 0.1309, Accuracy: 96.59%\n",
      "\n",
      "20076/20076 [==============================] - 35s 2ms/step - loss: 0.1402 - binary_accuracy: 0.9638 - val_loss: 0.1420 - val_binary_accuracy: 0.9628\n",
      "1174/1174 [==============================] - 2s 2ms/step - loss: 0.1325 - binary_accuracy: 0.9667\n",
      "Client Client3 - Evaluate on 713787 samples: Average loss: 0.1325, Accuracy: 96.67%\n",
      "\n",
      "20076/20076 [==============================] - 37s 2ms/step - loss: 0.1398 - binary_accuracy: 0.9639 - val_loss: 0.1393 - val_binary_accuracy: 0.9627\n",
      "1174/1174 [==============================] - 2s 2ms/step - loss: 0.1298 - binary_accuracy: 0.9659\n",
      "Client Client3 - Evaluate on 713787 samples: Average loss: 0.1298, Accuracy: 96.59%\n",
      "\n",
      "20076/20076 [==============================] - 42s 2ms/step - loss: 0.1395 - binary_accuracy: 0.9638 - val_loss: 0.1388 - val_binary_accuracy: 0.9653\n",
      "1174/1174 [==============================] - 2s 2ms/step - loss: 0.1302 - binary_accuracy: 0.9669\n",
      "Client Client3 - Evaluate on 713787 samples: Average loss: 0.1302, Accuracy: 96.69%\n",
      "\n",
      "20076/20076 [==============================] - 38s 2ms/step - loss: 0.1392 - binary_accuracy: 0.9639 - val_loss: 0.1407 - val_binary_accuracy: 0.9627\n",
      "1174/1174 [==============================] - 2s 1ms/step - loss: 0.1292 - binary_accuracy: 0.9659\n",
      "Client Client3 - Evaluate on 713787 samples: Average loss: 0.1292, Accuracy: 96.59%\n",
      "\n",
      "20076/20076 [==============================] - 41s 2ms/step - loss: 0.1390 - binary_accuracy: 0.9638 - val_loss: 0.1396 - val_binary_accuracy: 0.9627\n",
      "1174/1174 [==============================] - 2s 2ms/step - loss: 0.1293 - binary_accuracy: 0.9659\n",
      "Client Client3 - Evaluate on 713787 samples: Average loss: 0.1293, Accuracy: 96.59%\n",
      "\n",
      "20076/20076 [==============================] - 34s 2ms/step - loss: 0.1387 - binary_accuracy: 0.9641 - val_loss: 0.1388 - val_binary_accuracy: 0.9607\n",
      "1174/1174 [==============================] - 2s 1ms/step - loss: 0.1303 - binary_accuracy: 0.9659\n",
      "Client Client3 - Evaluate on 713787 samples: Average loss: 0.1303, Accuracy: 96.59%\n",
      "\n",
      "20076/20076 [==============================] - 33s 2ms/step - loss: 0.1385 - binary_accuracy: 0.9641 - val_loss: 0.1382 - val_binary_accuracy: 0.9647\n",
      "1174/1174 [==============================] - 2s 1ms/step - loss: 0.1293 - binary_accuracy: 0.9682\n",
      "Client Client3 - Evaluate on 713787 samples: Average loss: 0.1293, Accuracy: 96.82%\n",
      "\n",
      "20076/20076 [==============================] - 33s 2ms/step - loss: 0.1380 - binary_accuracy: 0.9642 - val_loss: 0.1378 - val_binary_accuracy: 0.9648\n",
      "1174/1174 [==============================] - 2s 2ms/step - loss: 0.1287 - binary_accuracy: 0.9677\n",
      "Client Client3 - Evaluate on 713787 samples: Average loss: 0.1287, Accuracy: 96.77%\n",
      "\n",
      "20076/20076 [==============================] - 33s 2ms/step - loss: 0.1377 - binary_accuracy: 0.9643 - val_loss: 0.1370 - val_binary_accuracy: 0.9629\n",
      "1174/1174 [==============================] - 2s 1ms/step - loss: 0.1286 - binary_accuracy: 0.9682\n",
      "Client Client3 - Evaluate on 713787 samples: Average loss: 0.1286, Accuracy: 96.82%\n",
      "\n",
      " 1519/20076 [=>............................] - ETA: 42s - loss: 0.1360 - binary_accuracy: 0.9643"
     ]
    }
   ],
   "source": [
    "server_address = \"[::]:8081\"\n",
    "\n",
    "fl.client.start_numpy_client(server_address, client=client)"
   ]
  },
  {
   "cell_type": "code",
   "execution_count": null,
   "id": "81af61b2",
   "metadata": {},
   "outputs": [],
   "source": []
  }
 ],
 "metadata": {
  "kernelspec": {
   "display_name": "Python 3 (ipykernel)",
   "language": "python",
   "name": "python3"
  },
  "language_info": {
   "codemirror_mode": {
    "name": "ipython",
    "version": 3
   },
   "file_extension": ".py",
   "mimetype": "text/x-python",
   "name": "python",
   "nbconvert_exporter": "python",
   "pygments_lexer": "ipython3",
   "version": "3.8.10"
  }
 },
 "nbformat": 4,
 "nbformat_minor": 5
}
