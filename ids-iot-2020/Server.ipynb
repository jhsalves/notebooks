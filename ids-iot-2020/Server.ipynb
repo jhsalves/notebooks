{
 "cells": [
  {
   "cell_type": "code",
   "execution_count": 1,
   "id": "ed730983",
   "metadata": {},
   "outputs": [],
   "source": [
    "import flwr as fl"
   ]
  },
  {
   "cell_type": "code",
   "execution_count": 2,
   "id": "77d5ec35",
   "metadata": {},
   "outputs": [
    {
     "name": "stderr",
     "output_type": "stream",
     "text": [
      "INFO flower 2021-11-16 01:31:54,426 | app.py:73 | Flower server running (insecure, 10 rounds)\n",
      "INFO flower 2021-11-16 01:31:54,428 | server.py:118 | Getting initial parameters\n",
      "INFO flower 2021-11-16 01:32:13,765 | server.py:306 | Received initial parameters from one random client\n",
      "INFO flower 2021-11-16 01:32:13,767 | server.py:120 | Evaluating initial parameters\n",
      "INFO flower 2021-11-16 01:32:13,769 | server.py:133 | FL starting\n",
      "DEBUG flower 2021-11-16 01:32:33,341 | server.py:251 | fit_round: strategy sampled 2 clients (out of 2)\n",
      "DEBUG flower 2021-11-16 01:33:03,498 | server.py:260 | fit_round received 2 results and 0 failures\n",
      "DEBUG flower 2021-11-16 01:33:03,500 | server.py:201 | evaluate_round: strategy sampled 2 clients (out of 2)\n",
      "DEBUG flower 2021-11-16 01:33:04,901 | server.py:210 | evaluate_round received 2 results and 0 failures\n",
      "DEBUG flower 2021-11-16 01:33:04,901 | server.py:251 | fit_round: strategy sampled 2 clients (out of 2)\n",
      "DEBUG flower 2021-11-16 01:33:33,563 | server.py:260 | fit_round received 2 results and 0 failures\n",
      "DEBUG flower 2021-11-16 01:33:33,565 | server.py:201 | evaluate_round: strategy sampled 2 clients (out of 2)\n",
      "DEBUG flower 2021-11-16 01:33:34,632 | server.py:210 | evaluate_round received 2 results and 0 failures\n",
      "DEBUG flower 2021-11-16 01:33:34,633 | server.py:251 | fit_round: strategy sampled 2 clients (out of 2)\n",
      "DEBUG flower 2021-11-16 01:34:15,874 | server.py:260 | fit_round received 2 results and 0 failures\n",
      "DEBUG flower 2021-11-16 01:34:15,876 | server.py:201 | evaluate_round: strategy sampled 2 clients (out of 2)\n",
      "DEBUG flower 2021-11-16 01:34:17,185 | server.py:210 | evaluate_round received 2 results and 0 failures\n",
      "DEBUG flower 2021-11-16 01:34:17,186 | server.py:251 | fit_round: strategy sampled 2 clients (out of 2)\n",
      "DEBUG flower 2021-11-16 01:34:58,402 | server.py:260 | fit_round received 2 results and 0 failures\n",
      "DEBUG flower 2021-11-16 01:34:58,404 | server.py:201 | evaluate_round: strategy sampled 2 clients (out of 2)\n",
      "DEBUG flower 2021-11-16 01:34:59,563 | server.py:210 | evaluate_round received 2 results and 0 failures\n",
      "DEBUG flower 2021-11-16 01:34:59,564 | server.py:251 | fit_round: strategy sampled 2 clients (out of 2)\n",
      "DEBUG flower 2021-11-16 01:35:30,318 | server.py:260 | fit_round received 2 results and 0 failures\n",
      "DEBUG flower 2021-11-16 01:35:30,321 | server.py:201 | evaluate_round: strategy sampled 2 clients (out of 2)\n",
      "DEBUG flower 2021-11-16 01:35:31,630 | server.py:210 | evaluate_round received 2 results and 0 failures\n",
      "DEBUG flower 2021-11-16 01:35:31,631 | server.py:251 | fit_round: strategy sampled 2 clients (out of 2)\n",
      "DEBUG flower 2021-11-16 01:36:00,307 | server.py:260 | fit_round received 2 results and 0 failures\n",
      "DEBUG flower 2021-11-16 01:36:00,309 | server.py:201 | evaluate_round: strategy sampled 2 clients (out of 2)\n",
      "DEBUG flower 2021-11-16 01:36:01,379 | server.py:210 | evaluate_round received 2 results and 0 failures\n",
      "DEBUG flower 2021-11-16 01:36:01,380 | server.py:251 | fit_round: strategy sampled 2 clients (out of 2)\n",
      "DEBUG flower 2021-11-16 01:36:30,492 | server.py:260 | fit_round received 2 results and 0 failures\n",
      "DEBUG flower 2021-11-16 01:36:30,494 | server.py:201 | evaluate_round: strategy sampled 2 clients (out of 2)\n",
      "DEBUG flower 2021-11-16 01:36:31,807 | server.py:210 | evaluate_round received 2 results and 0 failures\n",
      "DEBUG flower 2021-11-16 01:36:31,808 | server.py:251 | fit_round: strategy sampled 2 clients (out of 2)\n",
      "DEBUG flower 2021-11-16 01:37:01,758 | server.py:260 | fit_round received 2 results and 0 failures\n",
      "DEBUG flower 2021-11-16 01:37:01,761 | server.py:201 | evaluate_round: strategy sampled 2 clients (out of 2)\n",
      "DEBUG flower 2021-11-16 01:37:03,246 | server.py:210 | evaluate_round received 2 results and 0 failures\n",
      "DEBUG flower 2021-11-16 01:37:03,247 | server.py:251 | fit_round: strategy sampled 2 clients (out of 2)\n",
      "DEBUG flower 2021-11-16 01:37:32,473 | server.py:260 | fit_round received 2 results and 0 failures\n",
      "DEBUG flower 2021-11-16 01:37:32,475 | server.py:201 | evaluate_round: strategy sampled 2 clients (out of 2)\n",
      "DEBUG flower 2021-11-16 01:37:33,555 | server.py:210 | evaluate_round received 2 results and 0 failures\n",
      "DEBUG flower 2021-11-16 01:37:33,556 | server.py:251 | fit_round: strategy sampled 2 clients (out of 2)\n",
      "DEBUG flower 2021-11-16 01:38:02,285 | server.py:260 | fit_round received 2 results and 0 failures\n",
      "DEBUG flower 2021-11-16 01:38:02,288 | server.py:201 | evaluate_round: strategy sampled 2 clients (out of 2)\n",
      "DEBUG flower 2021-11-16 01:38:03,609 | server.py:210 | evaluate_round received 2 results and 0 failures\n",
      "INFO flower 2021-11-16 01:38:03,609 | server.py:172 | FL finished in 349.83818800000154\n",
      "INFO flower 2021-11-16 01:38:03,610 | app.py:109 | app_fit: losses_distributed [(1, 0.915839433670044), (2, 1.554997980594635), (3, 1.9508932828903198), (4, 2.2148557305336), (5, 2.464240610599518), (6, 2.641325533390045), (7, 2.95807284116745), (8, 3.0962007641792297), (9, 3.2808302640914917), (10, 3.5710752606391907)]\n",
      "INFO flower 2021-11-16 01:38:03,611 | app.py:110 | app_fit: metrics_distributed {}\n",
      "INFO flower 2021-11-16 01:38:03,611 | app.py:111 | app_fit: losses_centralized []\n",
      "INFO flower 2021-11-16 01:38:03,612 | app.py:112 | app_fit: metrics_centralized {}\n",
      "DEBUG flower 2021-11-16 01:38:03,613 | server.py:201 | evaluate_round: strategy sampled 2 clients (out of 2)\n",
      "DEBUG flower 2021-11-16 01:38:04,924 | server.py:210 | evaluate_round received 2 results and 0 failures\n",
      "INFO flower 2021-11-16 01:38:04,925 | app.py:121 | app_evaluate: federated loss: 3.5710752606391907\n",
      "INFO flower 2021-11-16 01:38:04,925 | app.py:122 | app_evaluate: results [('ipv6:[::1]:56732', EvaluateRes(loss=5.482367992401123, num_examples=37568, accuracy=0.0, metrics={'accuracy': 0.30887991189956665})), ('ipv6:[::1]:57816', EvaluateRes(loss=1.6597825288772583, num_examples=37568, accuracy=0.0, metrics={'accuracy': 0.810849666595459}))]\n",
      "INFO flower 2021-11-16 01:38:04,926 | app.py:127 | app_evaluate: failures []\n"
     ]
    }
   ],
   "source": [
    "server_address = \"[::]:8081\"\n",
    "fl.server.start_server(server_address, config = {\"num_rounds\": 10})"
   ]
  },
  {
   "cell_type": "code",
   "execution_count": null,
   "id": "5ce64bc6",
   "metadata": {},
   "outputs": [],
   "source": []
  }
 ],
 "metadata": {
  "kernelspec": {
   "display_name": "Python 3 (ipykernel)",
   "language": "python",
   "name": "python3"
  },
  "language_info": {
   "codemirror_mode": {
    "name": "ipython",
    "version": 3
   },
   "file_extension": ".py",
   "mimetype": "text/x-python",
   "name": "python",
   "nbconvert_exporter": "python",
   "pygments_lexer": "ipython3",
   "version": "3.8.10"
  }
 },
 "nbformat": 4,
 "nbformat_minor": 5
}
