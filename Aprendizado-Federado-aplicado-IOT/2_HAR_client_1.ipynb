{
 "cells": [
  {
   "cell_type": "markdown",
   "metadata": {
    "id": "bj3F1nTZj1ho"
   },
   "source": [
    "# Hands On - Aprendizado Federado aplicado à Internet das Coisas\n",
    "\n",
    "**Notebook 2**: Criação de clientes no ambiente federado"
   ]
  },
  {
   "cell_type": "markdown",
   "metadata": {
    "id": "cJPTVnswkMdN"
   },
   "source": [
    "O reconhecimento da atividade humana é uma área de pesquisa ativa e que possui um enorme potencial de benefício com o uso de aprendizado federado (FL), já que tais dados são normalmente privados e possuem informações sensíveis sobre os usuários.\n",
    "Além disso, com FL também podemos desenvolver um modelo conjunto que consiga capturar a diversidade dos dados, algo que é extremamente difícil de ser coletado de forma individual.\n",
    "\n",
    "Sob esse contexto, nesse tutorial vamos aprender como definir clientes para o treinamento federado de uma rede neural para auxilar no reconhecimento de atividades humanas (*Human Activity Recognition* - HAR) usando o framework de aprendizado federado\n",
    "Flower em conjunto com a biblioteca de deep learning Pytorch."
   ]
  },
  {
   "cell_type": "markdown",
   "metadata": {
    "id": "2hX7rxsAk8CT"
   },
   "source": [
    "### Dataset\n",
    "\n",
    "Os dados serão particionados horizontalmente, assim os subconjuntos de treinamento e teste irão ser divididos em mini-batches (pequenos lotes) com base no número total de clientes.\n",
    "\n",
    "Para isso, aplicaremos uma função auxiliar para carregar os dados e definir os conjuntos de treinamento e teste.\n",
    "Nessa função, precisaremos dos seguintes parâmetros: \n",
    "\n",
    "* **data root (str)**: Diretório onde os datasets finais serão armazenados. \n",
    "\n",
    "* **train batch size (int)**: Tamanho do mini-batch usado nos dados de treinamento.\n",
    "\n",
    "* **test batch size (int)**: Tamanho do mini-batch usado nos dados de teste. \n",
    "\n",
    "* **id (int)**: Client ID usado para selecionar uma partição específica. \n",
    "\n",
    "* **nb clients (int)**: Número total de clientes usados no treinamento."
   ]
  },
  {
   "cell_type": "code",
   "execution_count": 1,
   "metadata": {
    "colab": {
     "base_uri": "https://localhost:8080/"
    },
    "id": "UVQzVKL2r67J",
    "outputId": "67066d3f-f7bb-412c-e76b-091aea68ff3c"
   },
   "outputs": [],
   "source": [
    "#Carregando os dados\n",
    "import flwr as fl\n",
    "import torch\n",
    "import aux\n",
    "\n",
    "DATA_ROOT = \"./data/pml-training.csv\"\n",
    "\n",
    "cid = 0\n",
    "nb_clients = 3\n",
    "train_batch_size = 64\n",
    "test_batch_size = 64\n",
    "epochs = 10\n",
    "\n",
    "# Load data\n",
    "train_loader, test_loader = aux.load_data(\n",
    "        data_root = DATA_ROOT,\n",
    "        train_batch_size = train_batch_size,\n",
    "        test_batch_size = test_batch_size,\n",
    "        cid = cid,\n",
    "        nb_clients = nb_clients + 1,\n",
    ")"
   ]
  },
  {
   "cell_type": "markdown",
   "metadata": {
    "id": "Arvhg44xrwWm"
   },
   "source": [
    "### Rede Neural\n",
    "\n",
    "Atualmente o modelo de classificação mais adequado e vantajoso para a modelagem de um ambiente federado são as redes neurais.\n",
    "Definimos essa configuração de arquitetura por meio da criação de uma classe em Pytorch denominada **HARmodel** presente no arquivo auxiliar *aux.py* adicionado."
   ]
  },
  {
   "cell_type": "markdown",
   "metadata": {
    "id": "-glqWQnYsGt3"
   },
   "source": [
    "### Cliente Flower\n",
    "\n",
    "O próximo passo é definir a alocação dos dispositivos no ambiente federado. \n",
    "\n",
    "Quando o servidor seleciona um dispositivo específico do ambiente federado para realizar um treinamento, ele envia as instruções pela rede, por meio de uma interface chamada **Client**.\n",
    "Assim, o cliente recebe as instruções do servidor e chama um dos métodos desta classe para executar seu código (ou seja, para treinar a sua rede neural local). \n",
    "\n",
    "O framework Flower fornece uma classe chamada *NumPyClient*, que torna mais fácil implementar a interface do cliente quando utilizamos PyTorch. \n",
    "Quando implementamos um NumPyClient devemos definir os seguintes métodos: \n",
    "\n",
    "* **get_parameters**: retorna o peso do modelo\n",
    "como uma lista de ndarrays \n",
    "\n",
    "* **set_parameters** (opcional): atualiza os pesos do modelo\n",
    "local com os parâmetros recebidos do servidor \n",
    "\n",
    "* **fit**: define os pesos do modelo local, treina o modelo localmente e recebe o update dos pesos locais \n",
    "\n",
    "* **evaluate**: define como o modelo local será testado. \n",
    "\n",
    "Abaixo mostramos como a classe Client foi implementada\n",
    "para o caso de estudo apresentado:"
   ]
  },
  {
   "cell_type": "code",
   "execution_count": 2,
   "metadata": {},
   "outputs": [],
   "source": [
    "class FlowerClient(fl.client.Client):\n",
    "    \"\"\"Flower client implementing classification using PyTorch.\"\"\"\n",
    "\n",
    "    def __init__(self, cid, train_loader, test_loader, epochs, device: torch.device = torch.device(\"cpu\")):\n",
    "        \n",
    "        self.model = HARmodel(40, 5).to(device)\n",
    "        self.cid = cid\n",
    "        self.train_loader = train_loader\n",
    "        self.test_loader = test_loader\n",
    "        self.device = device\n",
    "        self.epochs = epochs\n",
    "\n",
    "    def get_weights(self):\n",
    "        \"\"\"Get model weights as a list of NumPy ndarrays.\"\"\"\n",
    "        return [val.cpu().numpy() for _, val in self.model.state_dict().items()]\n",
    "\n",
    "    def set_weights(self, weights):\n",
    "        \"\"\"Set model weights from a list of NumPy ndarrays.\n",
    "        Parameters\n",
    "        ----------\n",
    "        weights: fl.common.Weights\n",
    "            Weights received by the server and set to local model\n",
    "        Returns\n",
    "        -------\n",
    "        \"\"\"\n",
    "        state_dict = OrderedDict(\n",
    "            {\n",
    "                k: torch.Tensor(v)\n",
    "                for k, v in zip(self.model.state_dict().keys(), weights)\n",
    "            }\n",
    "        )\n",
    "        self.model.load_state_dict(state_dict, strict=True)\n",
    "\n",
    "    def get_parameters(self):\n",
    "        \"\"\"Encapsulates the weights into Flower Parameters \"\"\"\n",
    "        weights: fl.common.Weights = self.get_weights()\n",
    "        parameters = fl.common.weights_to_parameters(weights)\n",
    "        return fl.common.ParametersRes(parameters=parameters)\n",
    "\n",
    "    def fit(self, ins):\n",
    "        \"\"\"Trains the model on local dataset\n",
    "        Parameters\n",
    "        ----------\n",
    "        ins: fl.common.FitIns\n",
    "           Parameters sent by the server to be used during training.\n",
    "        Returns\n",
    "        -------\n",
    "            Set of variables containing the new set of weights and information the client.\n",
    "        \"\"\"\n",
    "\n",
    "        # Set the seed so we are sure to generate the same global batches\n",
    "        # indices across all clients\n",
    "        np.random.seed(123)\n",
    "\n",
    "        weights: fl.common.Weights = fl.common.parameters_to_weights(ins.parameters)\n",
    "        fit_begin = timeit.default_timer()\n",
    "\n",
    "        # Set model parameters/weights\n",
    "        self.set_weights(weights)\n",
    "\n",
    "        # Train model\n",
    "        num_examples_train: int = train(\n",
    "            self.model, self.train_loader, epochs = self.epochs, device = self.device, cid = self.cid\n",
    "        )\n",
    "\n",
    "        # Return the refined weights and the number of examples used for training\n",
    "        weights_prime: fl.common.Weights = self.get_weights()\n",
    "        params_prime = fl.common.weights_to_parameters(weights_prime)\n",
    "        fit_duration = timeit.default_timer() - fit_begin\n",
    "        return fl.common.FitRes(\n",
    "            parameters = params_prime,\n",
    "            num_examples = num_examples_train,\n",
    "            num_examples_ceil = num_examples_train,\n",
    "            fit_duration = fit_duration,\n",
    "        )\n",
    "\n",
    "    def evaluate(self, ins):\n",
    "        \"\"\"\n",
    "        Parameters\n",
    "        ----------\n",
    "        ins: fl.common.EvaluateIns\n",
    "           Parameters sent by the server to be used during testing.\n",
    "        Returns\n",
    "        -------\n",
    "            Information the clients testing results.\n",
    "        \"\"\"\n",
    "        weights = fl.common.parameters_to_weights(ins.parameters)\n",
    "\n",
    "        # Use provided weights to update the local model\n",
    "        self.set_weights(weights)\n",
    "\n",
    "        (num_examples_test, test_loss, accuracy) = test(self.model, self.test_loader, device = self.device)\n",
    "        print(f\"Client {self.cid} - Evaluate on {num_examples_test} samples: Average loss: {test_loss:.4f}, Accuracy: {100*accuracy:.2f}%\\n\")\n",
    "\n",
    "        # Return the number of evaluation examples and the evaluation result (loss)\n",
    "        return fl.common.EvaluateRes(\n",
    "            num_examples = num_examples_test,\n",
    "            loss = float(test_loss),\n",
    "            accuracy = float(accuracy),\n",
    "        )"
   ]
  },
  {
   "cell_type": "markdown",
   "metadata": {},
   "source": [
    "### Instanciando o cliente"
   ]
  },
  {
   "cell_type": "code",
   "execution_count": 3,
   "metadata": {
    "id": "MEUIciNJ69re"
   },
   "outputs": [],
   "source": [
    "device = torch.device(\"cuda\" if torch.cuda.is_available() else \"cpu\")\n",
    "\n",
    "client = aux.FlowerClient(\n",
    "    cid = cid,\n",
    "    train_loader = train_loader,\n",
    "    test_loader = test_loader,\n",
    "    epochs = epochs,\n",
    "    device = device,\n",
    ")"
   ]
  },
  {
   "cell_type": "markdown",
   "metadata": {
    "id": "yNxtUr3s67hn"
   },
   "source": [
    "### Inicializando o cliente\n",
    "\n",
    "O flower nos fornece a possibilidade de rodar o servidor e o cliente na mesma máquina, configurando o endereço do servidor como \"[::]: 8080\". \n",
    "Porém, se quisermos implementar uma aplicação realmente federada com o servidor e clientes em execução em diferentes máquinas, precisaremos apenas alterar o server address para o respectivo endereço da máquina do cliente."
   ]
  },
  {
   "cell_type": "code",
   "execution_count": 4,
   "metadata": {
    "id": "CD9ie8II7QHB",
    "scrolled": false
   },
   "outputs": [
    {
     "name": "stderr",
     "output_type": "stream",
     "text": [
      "DEBUG flower 2021-11-15 16:29:12,146 | connection.py:36 | ChannelConnectivity.IDLE\n",
      "DEBUG flower 2021-11-15 16:29:12,148 | connection.py:36 | ChannelConnectivity.READY\n",
      "INFO flower 2021-11-15 16:29:12,149 | app.py:61 | Opened (insecure) gRPC connection\n"
     ]
    },
    {
     "name": "stdout",
     "output_type": "stream",
     "text": [
      "Training 10 epoch(s) w/ 77 mini-batches each\n",
      "\n",
      "Train Epoch: 0 [4416/4928 (90%)] Loss: 1.617453, Acc: 0.240263 (Cliente 0)\t\t\t\t\n",
      "Train Epoch: 1 [4416/4928 (90%)] Loss: 1.650614, Acc: 0.289176 (Cliente 0)\t\t\t\t\n",
      "Train Epoch: 2 [4416/4928 (90%)] Loss: 1.467602, Acc: 0.344429 (Cliente 0)\t\t\t\t\n",
      "Train Epoch: 3 [4416/4928 (90%)] Loss: 1.331032, Acc: 0.387908 (Cliente 0)\t\t\t\t\n",
      "Train Epoch: 4 [4416/4928 (90%)] Loss: 1.379655, Acc: 0.423234 (Cliente 0)\t\t\t\t\n",
      "Train Epoch: 5 [4416/4928 (90%)] Loss: 1.371174, Acc: 0.432745 (Cliente 0)\t\t\t\t\n",
      "Train Epoch: 6 [4416/4928 (90%)] Loss: 1.404167, Acc: 0.470788 (Cliente 0)\t\t\t\t\n",
      "Train Epoch: 7 [4416/4928 (90%)] Loss: 1.187615, Acc: 0.477808 (Cliente 0)\t\t\t\t\n",
      "Train Epoch: 8 [4416/4928 (90%)] Loss: 1.200431, Acc: 0.502264 (Cliente 0)\t\t\t\t\n",
      "Training 10 epoch(s) w/ 77 mini-batches each306, Acc: 0.533741 (Cliente 0)\t\t\t\t\n",
      "\n",
      "Train Epoch: 0 [4416/4928 (90%)] Loss: 1.035017, Acc: 0.486413 (Cliente 0)\t\t\t\t\n",
      "Train Epoch: 1 [4416/4928 (90%)] Loss: 1.310423, Acc: 0.517210 (Cliente 0)\t\t\t\t\n",
      "Train Epoch: 2 [4416/4928 (90%)] Loss: 1.276771, Acc: 0.533288 (Cliente 0)\t\t\t\t\n",
      "Train Epoch: 3 [4416/4928 (90%)] Loss: 1.038258, Acc: 0.545743 (Cliente 0)\t\t\t\t\n",
      "Train Epoch: 4 [4416/4928 (90%)] Loss: 1.135603, Acc: 0.553442 (Cliente 0)\t\t\t\t\n",
      "Train Epoch: 5 [4416/4928 (90%)] Loss: 1.381735, Acc: 0.560236 (Cliente 0)\t\t\t\t\n",
      "Train Epoch: 6 [4416/4928 (90%)] Loss: 1.437137, Acc: 0.574049 (Cliente 0)\t\t\t\t\n",
      "Train Epoch: 7 [4416/4928 (90%)] Loss: 1.083621, Acc: 0.580389 (Cliente 0)\t\t\t\t\n",
      "Train Epoch: 8 [4416/4928 (90%)] Loss: 1.101085, Acc: 0.592165 (Cliente 0)\t\t\t\t\n",
      "Training 10 epoch(s) w/ 77 mini-batches each615, Acc: 0.608922 (Cliente 0)\t\t\t\t\n",
      "\n",
      "Train Epoch: 0 [4416/4928 (90%)] Loss: 1.011340, Acc: 0.584692 (Cliente 0)\t\t\t\t\n",
      "Train Epoch: 1 [4416/4928 (90%)] Loss: 1.097754, Acc: 0.605299 (Cliente 0)\t\t\t\t\n",
      "Train Epoch: 2 [4416/4928 (90%)] Loss: 1.151488, Acc: 0.611866 (Cliente 0)\t\t\t\t\n",
      "Train Epoch: 3 [4416/4928 (90%)] Loss: 1.109580, Acc: 0.617074 (Cliente 0)\t\t\t\t\n",
      "Train Epoch: 4 [4416/4928 (90%)] Loss: 1.090989, Acc: 0.607563 (Cliente 0)\t\t\t\t\n",
      "Train Epoch: 5 [4416/4928 (90%)] Loss: 1.250457, Acc: 0.617754 (Cliente 0)\t\t\t\t\n",
      "Train Epoch: 6 [4416/4928 (90%)] Loss: 0.916601, Acc: 0.630435 (Cliente 0)\t\t\t\t\n",
      "Train Epoch: 7 [4416/4928 (90%)] Loss: 0.994714, Acc: 0.633379 (Cliente 0)\t\t\t\t\n",
      "Train Epoch: 8 [4416/4928 (90%)] Loss: 0.697046, Acc: 0.641304 (Cliente 0)\t\t\t\t\n",
      "Training 10 epoch(s) w/ 77 mini-batches each603, Acc: 0.646060 (Cliente 0)\t\t\t\t\n",
      "\n",
      "Train Epoch: 0 [4416/4928 (90%)] Loss: 0.810272, Acc: 0.639493 (Cliente 0)\t\t\t\t\n",
      "Train Epoch: 1 [4416/4928 (90%)] Loss: 1.187885, Acc: 0.637455 (Cliente 0)\t\t\t\t\n",
      "Train Epoch: 2 [4416/4928 (90%)] Loss: 0.904046, Acc: 0.642437 (Cliente 0)\t\t\t\t\n",
      "Train Epoch: 3 [4416/4928 (90%)] Loss: 0.968244, Acc: 0.643569 (Cliente 0)\t\t\t\t\n",
      "Train Epoch: 4 [4416/4928 (90%)] Loss: 0.959844, Acc: 0.651042 (Cliente 0)\t\t\t\t\n",
      "Train Epoch: 5 [4416/4928 (90%)] Loss: 0.781154, Acc: 0.660779 (Cliente 0)\t\t\t\t\n",
      "Train Epoch: 6 [4416/4928 (90%)] Loss: 0.998162, Acc: 0.661911 (Cliente 0)\t\t\t\t\n",
      "Train Epoch: 7 [4416/4928 (90%)] Loss: 1.015890, Acc: 0.662817 (Cliente 0)\t\t\t\t\n",
      "Train Epoch: 8 [4416/4928 (90%)] Loss: 0.937800, Acc: 0.664629 (Cliente 0)\t\t\t\t\n",
      "Training 10 epoch(s) w/ 77 mini-batches each809, Acc: 0.669158 (Cliente 0)\t\t\t\t\n",
      "\n",
      "Train Epoch: 0 [4416/4928 (90%)] Loss: 0.783690, Acc: 0.659420 (Cliente 0)\t\t\t\t\n",
      "Train Epoch: 1 [4416/4928 (90%)] Loss: 1.070348, Acc: 0.662591 (Cliente 0)\t\t\t\t\n",
      "Train Epoch: 2 [4416/4928 (90%)] Loss: 0.966045, Acc: 0.675498 (Cliente 0)\t\t\t\t\n",
      "Train Epoch: 3 [4416/4928 (90%)] Loss: 0.884072, Acc: 0.675272 (Cliente 0)\t\t\t\t\n",
      "Train Epoch: 4 [4416/4928 (90%)] Loss: 0.873305, Acc: 0.673234 (Cliente 0)\t\t\t\t\n",
      "Train Epoch: 5 [4416/4928 (90%)] Loss: 0.636552, Acc: 0.677536 (Cliente 0)\t\t\t\t\n",
      "Train Epoch: 6 [4416/4928 (90%)] Loss: 0.776669, Acc: 0.681159 (Cliente 0)\t\t\t\t\n",
      "Train Epoch: 7 [4416/4928 (90%)] Loss: 0.738864, Acc: 0.686368 (Cliente 0)\t\t\t\t\n",
      "Train Epoch: 8 [4416/4928 (90%)] Loss: 0.823464, Acc: 0.679121 (Cliente 0)\t\t\t\t\n",
      "Training 10 epoch(s) w/ 77 mini-batches each780, Acc: 0.682518 (Cliente 0)\t\t\t\t\n",
      "\n",
      "Train Epoch: 0 [4416/4928 (90%)] Loss: 1.081555, Acc: 0.666893 (Cliente 0)\t\t\t\t\n",
      "Train Epoch: 1 [4416/4928 (90%)] Loss: 0.650488, Acc: 0.683197 (Cliente 0)\t\t\t\t\n",
      "Train Epoch: 2 [4416/4928 (90%)] Loss: 0.908903, Acc: 0.687047 (Cliente 0)\t\t\t\t\n",
      "Train Epoch: 3 [4416/4928 (90%)] Loss: 0.788748, Acc: 0.696784 (Cliente 0)\t\t\t\t\n",
      "Train Epoch: 4 [4416/4928 (90%)] Loss: 0.771476, Acc: 0.690217 (Cliente 0)\t\t\t\t\n",
      "Train Epoch: 5 [4416/4928 (90%)] Loss: 0.936113, Acc: 0.680254 (Cliente 0)\t\t\t\t\n",
      "Train Epoch: 6 [4416/4928 (90%)] Loss: 0.942102, Acc: 0.692935 (Cliente 0)\t\t\t\t\n",
      "Train Epoch: 7 [4416/4928 (90%)] Loss: 1.087512, Acc: 0.692935 (Cliente 0)\t\t\t\t\n",
      "Train Epoch: 8 [4416/4928 (90%)] Loss: 0.849085, Acc: 0.694746 (Cliente 0)\t\t\t\t\n",
      "Training 10 epoch(s) w/ 77 mini-batches each909, Acc: 0.701313 (Cliente 0)\t\t\t\t\n",
      "\n",
      "Train Epoch: 0 [4416/4928 (90%)] Loss: 0.732581, Acc: 0.683424 (Cliente 0)\t\t\t\t\n",
      "Train Epoch: 1 [4416/4928 (90%)] Loss: 0.952346, Acc: 0.689085 (Cliente 0)\t\t\t\t\n",
      "Train Epoch: 2 [4416/4928 (90%)] Loss: 0.763629, Acc: 0.705163 (Cliente 0)\t\t\t\t\n",
      "Train Epoch: 3 [4416/4928 (90%)] Loss: 0.896424, Acc: 0.697011 (Cliente 0)\t\t\t\t\n",
      "Train Epoch: 4 [4416/4928 (90%)] Loss: 0.836991, Acc: 0.704937 (Cliente 0)\t\t\t\t\n",
      "Train Epoch: 5 [4416/4928 (90%)] Loss: 0.912342, Acc: 0.710371 (Cliente 0)\t\t\t\t\n",
      "Train Epoch: 6 [4416/4928 (90%)] Loss: 0.933356, Acc: 0.688406 (Cliente 0)\t\t\t\t\n",
      "Train Epoch: 7 [4416/4928 (90%)] Loss: 0.773407, Acc: 0.695879 (Cliente 0)\t\t\t\t\n",
      "Train Epoch: 8 [4416/4928 (90%)] Loss: 0.879953, Acc: 0.701766 (Cliente 0)\t\t\t\t\n",
      "Training 10 epoch(s) w/ 77 mini-batches each896, Acc: 0.710145 (Cliente 0)\t\t\t\t\n",
      "\n",
      "Train Epoch: 0 [4416/4928 (90%)] Loss: 0.656605, Acc: 0.695652 (Cliente 0)\t\t\t\t\n",
      "Train Epoch: 1 [4416/4928 (90%)] Loss: 0.680692, Acc: 0.692029 (Cliente 0)\t\t\t\t\n",
      "Train Epoch: 2 [4416/4928 (90%)] Loss: 0.803705, Acc: 0.698143 (Cliente 0)\t\t\t\t\n",
      "Train Epoch: 3 [4416/4928 (90%)] Loss: 0.684849, Acc: 0.714221 (Cliente 0)\t\t\t\t\n",
      "Train Epoch: 4 [4416/4928 (90%)] Loss: 0.780467, Acc: 0.709692 (Cliente 0)\t\t\t\t\n",
      "Train Epoch: 5 [4416/4928 (90%)] Loss: 0.716773, Acc: 0.711957 (Cliente 0)\t\t\t\t\n",
      "Train Epoch: 6 [4416/4928 (90%)] Loss: 0.700139, Acc: 0.715353 (Cliente 0)\t\t\t\t\n",
      "Train Epoch: 7 [4416/4928 (90%)] Loss: 0.844541, Acc: 0.705163 (Cliente 0)\t\t\t\t\n",
      "Train Epoch: 8 [4416/4928 (90%)] Loss: 0.741433, Acc: 0.711504 (Cliente 0)\t\t\t\t\n",
      "Training 10 epoch(s) w/ 77 mini-batches each006, Acc: 0.713768 (Cliente 0)\t\t\t\t\n",
      "\n",
      "Train Epoch: 0 [4416/4928 (90%)] Loss: 0.795347, Acc: 0.700634 (Cliente 0)\t\t\t\t\n",
      "Train Epoch: 1 [4416/4928 (90%)] Loss: 0.814103, Acc: 0.705842 (Cliente 0)\t\t\t\t\n",
      "Train Epoch: 2 [4416/4928 (90%)] Loss: 0.830068, Acc: 0.720109 (Cliente 0)\t\t\t\t\n",
      "Train Epoch: 3 [4416/4928 (90%)] Loss: 0.731090, Acc: 0.721467 (Cliente 0)\t\t\t\t\n",
      "Train Epoch: 4 [4416/4928 (90%)] Loss: 0.738226, Acc: 0.717618 (Cliente 0)\t\t\t\t\n",
      "Train Epoch: 5 [4416/4928 (90%)] Loss: 0.836705, Acc: 0.713768 (Cliente 0)\t\t\t\t\n",
      "Train Epoch: 6 [4416/4928 (90%)] Loss: 0.642804, Acc: 0.712183 (Cliente 0)\t\t\t\t\n",
      "Train Epoch: 7 [4416/4928 (90%)] Loss: 0.696724, Acc: 0.721467 (Cliente 0)\t\t\t\t\n",
      "Train Epoch: 8 [4416/4928 (90%)] Loss: 0.601130, Acc: 0.724411 (Cliente 0)\t\t\t\t\n",
      "Training 10 epoch(s) w/ 77 mini-batches each998, Acc: 0.720562 (Cliente 0)\t\t\t\t\n",
      "\n",
      "Train Epoch: 0 [4416/4928 (90%)] Loss: 0.590665, Acc: 0.717391 (Cliente 0)\t\t\t\t\n",
      "Train Epoch: 1 [4416/4928 (90%)] Loss: 0.646088, Acc: 0.714900 (Cliente 0)\t\t\t\t\n",
      "Train Epoch: 2 [4416/4928 (90%)] Loss: 0.806577, Acc: 0.713542 (Cliente 0)\t\t\t\t\n",
      "Train Epoch: 3 [4416/4928 (90%)] Loss: 0.663766, Acc: 0.722600 (Cliente 0)\t\t\t\t\n",
      "Train Epoch: 4 [4416/4928 (90%)] Loss: 0.694913, Acc: 0.714447 (Cliente 0)\t\t\t\t\n",
      "Train Epoch: 5 [4416/4928 (90%)] Loss: 0.755803, Acc: 0.706748 (Cliente 0)\t\t\t\t\n",
      "Train Epoch: 6 [4416/4928 (90%)] Loss: 1.057284, Acc: 0.720562 (Cliente 0)\t\t\t\t\n",
      "Train Epoch: 7 [4416/4928 (90%)] Loss: 0.782882, Acc: 0.722147 (Cliente 0)\t\t\t\t\n",
      "Train Epoch: 8 [4416/4928 (90%)] Loss: 0.543786, Acc: 0.723732 (Cliente 0)\t\t\t\t\n",
      "Train Epoch: 9 [4416/4928 (90%)] Loss: 0.826168, Acc: 0.723505 (Cliente 0)\t\t\t\t\r"
     ]
    },
    {
     "name": "stderr",
     "output_type": "stream",
     "text": [
      "DEBUG flower 2021-11-15 16:33:18,461 | connection.py:68 | Insecure gRPC channel closed\n",
      "INFO flower 2021-11-15 16:33:18,462 | app.py:72 | Disconnect and shut down\n"
     ]
    },
    {
     "name": "stdout",
     "output_type": "stream",
     "text": [
      "Client 0 - Evaluate on 4905 samples: Average loss: 0.0085, Accuracy: 81.16%\n",
      "\n"
     ]
    }
   ],
   "source": [
    "client_address = \"[::]:8081\"\n",
    "fl.client.start_client(client_address, client)"
   ]
  },
  {
   "cell_type": "code",
   "execution_count": null,
   "metadata": {},
   "outputs": [],
   "source": []
  }
 ],
 "metadata": {
  "colab": {
   "collapsed_sections": [],
   "name": "2-HAR-client_1.ipynb",
   "provenance": []
  },
  "kernelspec": {
   "display_name": "Python 3 (ipykernel)",
   "language": "python",
   "name": "python3"
  },
  "language_info": {
   "codemirror_mode": {
    "name": "ipython",
    "version": 3
   },
   "file_extension": ".py",
   "mimetype": "text/x-python",
   "name": "python",
   "nbconvert_exporter": "python",
   "pygments_lexer": "ipython3",
   "version": "3.8.10"
  }
 },
 "nbformat": 4,
 "nbformat_minor": 1
}
