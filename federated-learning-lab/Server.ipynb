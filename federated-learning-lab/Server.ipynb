{
 "cells": [
  {
   "cell_type": "code",
   "execution_count": 1,
   "id": "ed730983",
   "metadata": {},
   "outputs": [],
   "source": [
    "import flwr as fl"
   ]
  },
  {
   "cell_type": "code",
   "execution_count": 2,
   "id": "de67c17c",
   "metadata": {},
   "outputs": [],
   "source": [
    "strategy = fl.server.strategy.FedAvg(eval_fn = eval)"
   ]
  },
  {
   "cell_type": "code",
   "execution_count": 3,
   "id": "77d5ec35",
   "metadata": {},
   "outputs": [
    {
     "name": "stderr",
     "output_type": "stream",
     "text": [
      "INFO flower 2021-11-15 20:48:50,978 | app.py:73 | Flower server running (insecure, 1 rounds)\n",
      "INFO flower 2021-11-15 20:48:50,979 | server.py:118 | Getting initial parameters\n",
      "INFO flower 2021-11-15 20:49:54,038 | server.py:306 | Received initial parameters from one random client\n",
      "INFO flower 2021-11-15 20:49:54,038 | server.py:120 | Evaluating initial parameters\n",
      "INFO flower 2021-11-15 20:49:54,039 | server.py:133 | FL starting\n",
      "DEBUG flower 2021-11-15 20:50:15,972 | server.py:251 | fit_round: strategy sampled 2 clients (out of 2)\n",
      "DEBUG flower 2021-11-15 20:50:20,732 | server.py:260 | fit_round received 2 results and 0 failures\n",
      "DEBUG flower 2021-11-15 20:50:20,851 | server.py:201 | evaluate_round: strategy sampled 2 clients (out of 2)\n",
      "DEBUG flower 2021-11-15 20:50:28,723 | server.py:210 | evaluate_round received 2 results and 0 failures\n",
      "INFO flower 2021-11-15 20:50:28,723 | server.py:172 | FL finished in 34.68365520000225\n",
      "INFO flower 2021-11-15 20:50:28,724 | app.py:109 | app_fit: losses_distributed [(1, 2.3026719093322754)]\n",
      "INFO flower 2021-11-15 20:50:28,725 | app.py:110 | app_fit: metrics_distributed {}\n",
      "INFO flower 2021-11-15 20:50:28,726 | app.py:111 | app_fit: losses_centralized []\n",
      "INFO flower 2021-11-15 20:50:28,726 | app.py:112 | app_fit: metrics_centralized {}\n",
      "DEBUG flower 2021-11-15 20:50:28,727 | server.py:201 | evaluate_round: strategy sampled 2 clients (out of 2)\n",
      "DEBUG flower 2021-11-15 20:50:35,967 | server.py:210 | evaluate_round received 2 results and 0 failures\n",
      "INFO flower 2021-11-15 20:50:35,967 | app.py:121 | app_evaluate: federated loss: 2.3026719093322754\n",
      "INFO flower 2021-11-15 20:50:35,968 | app.py:122 | app_evaluate: results [('ipv6:[::1]:33120', EvaluateRes(loss=2.3026719093322754, num_examples=10000, accuracy=0.0, metrics={'accuracy': 0.10000000149011612})), ('ipv6:[::1]:33158', EvaluateRes(loss=2.3026719093322754, num_examples=10000, accuracy=0.0, metrics={'accuracy': 0.10000000149011612}))]\n",
      "INFO flower 2021-11-15 20:50:35,968 | app.py:127 | app_evaluate: failures []\n"
     ]
    }
   ],
   "source": [
    "server_address = \"[::]:8081\"\n",
    "fl.server.start_server(server_address, config = {\"num_rounds\": 1})"
   ]
  },
  {
   "cell_type": "code",
   "execution_count": null,
   "id": "5ce64bc6",
   "metadata": {},
   "outputs": [],
   "source": []
  }
 ],
 "metadata": {
  "kernelspec": {
   "display_name": "Python 3 (ipykernel)",
   "language": "python",
   "name": "python3"
  },
  "language_info": {
   "codemirror_mode": {
    "name": "ipython",
    "version": 3
   },
   "file_extension": ".py",
   "mimetype": "text/x-python",
   "name": "python",
   "nbconvert_exporter": "python",
   "pygments_lexer": "ipython3",
   "version": "3.8.10"
  }
 },
 "nbformat": 4,
 "nbformat_minor": 5
}
