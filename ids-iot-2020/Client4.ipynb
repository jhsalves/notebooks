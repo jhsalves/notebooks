{
 "cells": [
  {
   "cell_type": "code",
   "execution_count": 1,
   "id": "437cc3d2",
   "metadata": {},
   "outputs": [
    {
     "name": "stdout",
     "output_type": "stream",
     "text": [
      "/bin/bash: {sys.executable}: command not found\n",
      "/bin/bash: {sys.executable}: command not found\n"
     ]
    },
    {
     "name": "stderr",
     "output_type": "stream",
     "text": [
      "2021-11-19 23:59:03.297301: W tensorflow/stream_executor/platform/default/dso_loader.cc:64] Could not load dynamic library 'libcudart.so.11.0'; dlerror: libcudart.so.11.0: cannot open shared object file: No such file or directory\n",
      "2021-11-19 23:59:03.297364: I tensorflow/stream_executor/cuda/cudart_stub.cc:29] Ignore above cudart dlerror if you do not have a GPU set up on your machine.\n"
     ]
    }
   ],
   "source": [
    "!{sys.executable} -m pip install tensorflow\n",
    "!{sys.executable} -m pip install seaborn\n",
    "import os\n",
    "import sys\n",
    "from .. import aux\n",
    "import tensorflow as tf\n",
    "import flwr as fl\n",
    "import tensorflow as tf\n",
    "\n",
    "# Make TensorFlow log less verbose\n",
    "os.environ[\"TF_CPP_MIN_LOG_LEVEL\"] = \"3\"\n"
   ]
  },
  {
   "cell_type": "code",
   "execution_count": 2,
   "id": "afeffe6f",
   "metadata": {},
   "outputs": [
    {
     "name": "stderr",
     "output_type": "stream",
     "text": [
      "2021-11-19 23:59:10.600848: W tensorflow/stream_executor/platform/default/dso_loader.cc:64] Could not load dynamic library 'libcuda.so.1'; dlerror: libcuda.so.1: cannot open shared object file: No such file or directory\n",
      "2021-11-19 23:59:10.600916: W tensorflow/stream_executor/cuda/cuda_driver.cc:269] failed call to cuInit: UNKNOWN ERROR (303)\n",
      "2021-11-19 23:59:10.600938: I tensorflow/stream_executor/cuda/cuda_diagnostics.cc:156] kernel driver does not appear to be running on this host (DESKTOP-KJRGBJA): /proc/driver/nvidia/version does not exist\n",
      "2021-11-19 23:59:10.601249: I tensorflow/core/platform/cpu_feature_guard.cc:151] This TensorFlow binary is optimized with oneAPI Deep Neural Network Library (oneDNN) to use the following CPU instructions in performance-critical operations:  AVX2 FMA\n",
      "To enable them in other operations, rebuild TensorFlow with the appropriate compiler flags.\n"
     ]
    }
   ],
   "source": [
    "model, (x_train, y_train), (x_test, y_test), shape, batch_size, epochs, validation_split = aux.build_model_with_parameters(epochs = 100)"
   ]
  },
  {
   "cell_type": "code",
   "execution_count": 3,
   "id": "c0716299",
   "metadata": {},
   "outputs": [],
   "source": [
    "client_name = \"Client4\""
   ]
  },
  {
   "cell_type": "code",
   "execution_count": 4,
   "id": "5df00572",
   "metadata": {},
   "outputs": [],
   "source": [
    "client = aux.FlowerClient(client_name, model, (x_train, y_train), (x_test, y_test), batch_size, epochs, validation_split)"
   ]
  },
  {
   "cell_type": "code",
   "execution_count": null,
   "id": "6f8f3c1e",
   "metadata": {},
   "outputs": [
    {
     "name": "stderr",
     "output_type": "stream",
     "text": [
      "DEBUG flower 2021-11-19 23:59:11,142 | connection.py:36 | ChannelConnectivity.IDLE\n",
      "DEBUG flower 2021-11-19 23:59:11,144 | connection.py:36 | ChannelConnectivity.READY\n",
      "INFO flower 2021-11-19 23:59:11,145 | app.py:61 | Opened (insecure) gRPC connection\n"
     ]
    },
    {
     "name": "stdout",
     "output_type": "stream",
     "text": [
      "Epoch 1/100\n",
      "20076/20076 [==============================] - 39s 2ms/step - loss: 0.2770 - binary_accuracy: 0.8985 - val_loss: 0.2534 - val_binary_accuracy: 0.9020\n",
      "Epoch 2/100\n",
      "20076/20076 [==============================] - 41s 2ms/step - loss: 0.2222 - binary_accuracy: 0.9177 - val_loss: 0.2065 - val_binary_accuracy: 0.9225\n",
      "Epoch 3/100\n",
      "20076/20076 [==============================] - 41s 2ms/step - loss: 0.1939 - binary_accuracy: 0.9280 - val_loss: 0.1883 - val_binary_accuracy: 0.9271\n",
      "Epoch 4/100\n",
      "20076/20076 [==============================] - 36s 2ms/step - loss: 0.1810 - binary_accuracy: 0.9353 - val_loss: 0.1767 - val_binary_accuracy: 0.9385\n",
      "Epoch 5/100\n",
      "20076/20076 [==============================] - 34s 2ms/step - loss: 0.1719 - binary_accuracy: 0.9465 - val_loss: 0.1692 - val_binary_accuracy: 0.9451\n",
      "Epoch 6/100\n",
      "20076/20076 [==============================] - 34s 2ms/step - loss: 0.1647 - binary_accuracy: 0.9554 - val_loss: 0.1613 - val_binary_accuracy: 0.9560\n",
      "Epoch 7/100\n",
      "20076/20076 [==============================] - 36s 2ms/step - loss: 0.1578 - binary_accuracy: 0.9596 - val_loss: 0.1591 - val_binary_accuracy: 0.9560\n",
      "Epoch 8/100\n",
      "20076/20076 [==============================] - 37s 2ms/step - loss: 0.1533 - binary_accuracy: 0.9627 - val_loss: 0.1516 - val_binary_accuracy: 0.9653\n",
      "Epoch 9/100\n",
      "20076/20076 [==============================] - 33s 2ms/step - loss: 0.1504 - binary_accuracy: 0.9638 - val_loss: 0.1493 - val_binary_accuracy: 0.9614\n",
      "Epoch 10/100\n",
      "20076/20076 [==============================] - 30s 2ms/step - loss: 0.1482 - binary_accuracy: 0.9636 - val_loss: 0.1481 - val_binary_accuracy: 0.9633\n",
      "Epoch 11/100\n",
      "20076/20076 [==============================] - 38s 2ms/step - loss: 0.1449 - binary_accuracy: 0.9640 - val_loss: 0.1439 - val_binary_accuracy: 0.9627\n",
      "Epoch 12/100\n",
      "20076/20076 [==============================] - 37s 2ms/step - loss: 0.1420 - binary_accuracy: 0.9644 - val_loss: 0.1407 - val_binary_accuracy: 0.9639\n",
      "Epoch 13/100\n",
      "20076/20076 [==============================] - 34s 2ms/step - loss: 0.1397 - binary_accuracy: 0.9647 - val_loss: 0.1397 - val_binary_accuracy: 0.9637\n",
      "Epoch 14/100\n",
      "20076/20076 [==============================] - 42s 2ms/step - loss: 0.1372 - binary_accuracy: 0.9647 - val_loss: 0.1365 - val_binary_accuracy: 0.9620\n",
      "Epoch 15/100\n",
      "20076/20076 [==============================] - 41s 2ms/step - loss: 0.1350 - binary_accuracy: 0.9648 - val_loss: 0.1368 - val_binary_accuracy: 0.9641\n",
      "Epoch 16/100\n",
      "20076/20076 [==============================] - 42s 2ms/step - loss: 0.1340 - binary_accuracy: 0.9647 - val_loss: 0.1323 - val_binary_accuracy: 0.9642\n",
      "Epoch 17/100\n",
      "20076/20076 [==============================] - 41s 2ms/step - loss: 0.1333 - binary_accuracy: 0.9647 - val_loss: 0.1320 - val_binary_accuracy: 0.9642\n",
      "Epoch 18/100\n",
      "20076/20076 [==============================] - 41s 2ms/step - loss: 0.1328 - binary_accuracy: 0.9648 - val_loss: 0.1322 - val_binary_accuracy: 0.9642\n",
      "Epoch 19/100\n",
      "20076/20076 [==============================] - 39s 2ms/step - loss: 0.1326 - binary_accuracy: 0.9648 - val_loss: 0.1330 - val_binary_accuracy: 0.9642\n",
      "Epoch 20/100\n",
      "20076/20076 [==============================] - 42s 2ms/step - loss: 0.1325 - binary_accuracy: 0.9648 - val_loss: 0.1344 - val_binary_accuracy: 0.9642\n",
      "Epoch 21/100\n",
      "20076/20076 [==============================] - 41s 2ms/step - loss: 0.1322 - binary_accuracy: 0.9648 - val_loss: 0.1320 - val_binary_accuracy: 0.9642\n",
      "Epoch 22/100\n",
      "20076/20076 [==============================] - 39s 2ms/step - loss: 0.1321 - binary_accuracy: 0.9648 - val_loss: 0.1329 - val_binary_accuracy: 0.9642\n",
      "Epoch 23/100\n",
      "20076/20076 [==============================] - 39s 2ms/step - loss: 0.1318 - binary_accuracy: 0.9648 - val_loss: 0.1316 - val_binary_accuracy: 0.9643\n",
      "Epoch 24/100\n",
      "20076/20076 [==============================] - 39s 2ms/step - loss: 0.1317 - binary_accuracy: 0.9648 - val_loss: 0.1314 - val_binary_accuracy: 0.9643\n",
      "Epoch 25/100\n",
      "20076/20076 [==============================] - 39s 2ms/step - loss: 0.1317 - binary_accuracy: 0.9648 - val_loss: 0.1309 - val_binary_accuracy: 0.9643\n",
      "Epoch 26/100\n",
      "20076/20076 [==============================] - 40s 2ms/step - loss: 0.1315 - binary_accuracy: 0.9648 - val_loss: 0.1299 - val_binary_accuracy: 0.9643\n",
      "Epoch 27/100\n",
      "20076/20076 [==============================] - 42s 2ms/step - loss: 0.1313 - binary_accuracy: 0.9648 - val_loss: 0.1310 - val_binary_accuracy: 0.9655\n",
      "Epoch 28/100\n",
      "20076/20076 [==============================] - 41s 2ms/step - loss: 0.1311 - binary_accuracy: 0.9649 - val_loss: 0.1310 - val_binary_accuracy: 0.9643\n",
      "Epoch 29/100\n",
      "20076/20076 [==============================] - 37s 2ms/step - loss: 0.1312 - binary_accuracy: 0.9649 - val_loss: 0.1318 - val_binary_accuracy: 0.9643\n",
      "Epoch 30/100\n",
      "20076/20076 [==============================] - 58s 3ms/step - loss: 0.1309 - binary_accuracy: 0.9649 - val_loss: 0.1310 - val_binary_accuracy: 0.9643\n",
      "Epoch 31/100\n",
      "20076/20076 [==============================] - 42s 2ms/step - loss: 0.1309 - binary_accuracy: 0.9649 - val_loss: 0.1311 - val_binary_accuracy: 0.9643\n",
      "Epoch 32/100\n",
      "20076/20076 [==============================] - 39s 2ms/step - loss: 0.1308 - binary_accuracy: 0.9649 - val_loss: 0.1313 - val_binary_accuracy: 0.9643\n",
      "Epoch 33/100\n",
      "20076/20076 [==============================] - 40s 2ms/step - loss: 0.1308 - binary_accuracy: 0.9649 - val_loss: 0.1321 - val_binary_accuracy: 0.9643\n",
      "Epoch 34/100\n",
      "20076/20076 [==============================] - 40s 2ms/step - loss: 0.1307 - binary_accuracy: 0.9649 - val_loss: 0.1374 - val_binary_accuracy: 0.9643\n",
      "Epoch 35/100\n",
      "20076/20076 [==============================] - 40s 2ms/step - loss: 0.1306 - binary_accuracy: 0.9649 - val_loss: 0.1296 - val_binary_accuracy: 0.9643\n",
      "Epoch 36/100\n",
      "20076/20076 [==============================] - 44s 2ms/step - loss: 0.1306 - binary_accuracy: 0.9649 - val_loss: 0.1308 - val_binary_accuracy: 0.9643\n",
      "Epoch 37/100\n",
      "20076/20076 [==============================] - 39s 2ms/step - loss: 0.1305 - binary_accuracy: 0.9649 - val_loss: 0.1326 - val_binary_accuracy: 0.9643\n",
      "Epoch 38/100\n",
      "20076/20076 [==============================] - 43s 2ms/step - loss: 0.1305 - binary_accuracy: 0.9649 - val_loss: 0.1399 - val_binary_accuracy: 0.9643\n",
      "Epoch 39/100\n",
      " 9325/20076 [============>.................] - ETA: 14s - loss: 0.1308 - binary_accuracy: 0.9647"
     ]
    },
    {
     "name": "stderr",
     "output_type": "stream",
     "text": [
      "DEBUG flower 2021-11-20 00:24:28,589 | connection.py:36 | ChannelConnectivity.IDLE\n"
     ]
    },
    {
     "name": "stdout",
     "output_type": "stream",
     "text": [
      "20076/20076 [==============================] - 28s 1ms/step - loss: 0.1304 - binary_accuracy: 0.9649 - val_loss: 0.1296 - val_binary_accuracy: 0.9643\n",
      "Epoch 40/100\n",
      " 8424/20076 [===========>..................] - ETA: 14s - loss: 0.1302 - binary_accuracy: 0.9650"
     ]
    }
   ],
   "source": [
    "server_address = \"[::]:8081\"\n",
    "\n",
    "fl.client.start_numpy_client(server_address, client=client)"
   ]
  },
  {
   "cell_type": "code",
   "execution_count": null,
   "id": "81af61b2",
   "metadata": {},
   "outputs": [],
   "source": []
  }
 ],
 "metadata": {
  "kernelspec": {
   "display_name": "Python 3 (ipykernel)",
   "language": "python",
   "name": "python3"
  },
  "language_info": {
   "codemirror_mode": {
    "name": "ipython",
    "version": 3
   },
   "file_extension": ".py",
   "mimetype": "text/x-python",
   "name": "python",
   "nbconvert_exporter": "python",
   "pygments_lexer": "ipython3",
   "version": "3.8.10"
  }
 },
 "nbformat": 4,
 "nbformat_minor": 5
}